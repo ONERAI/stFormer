{
 "cells": [
  {
   "cell_type": "code",
   "execution_count": 1,
   "metadata": {},
   "outputs": [],
   "source": [
    "import os\n",
    "os.environ['PYTORCH_CUDA_ALLOC_CONF'] = 'expandable_segments:True'\n",
    "import warnings\n",
    "warnings.filterwarnings('ignore')\n",
    "import pickle\n",
    "import time\n",
    "import copy\n",
    "from tqdm import tqdm\n",
    "import numpy as np\n",
    "import pandas as pd\n",
    "from sklearn.model_selection import StratifiedKFold\n",
    "from sklearn.metrics import auc, roc_curve\n",
    "import anndata\n",
    "import scanpy as sc\n",
    "import torch\n",
    "from torch import nn, Tensor\n",
    "from scfoundation import load"
   ]
  },
  {
   "cell_type": "code",
   "execution_count": 2,
   "metadata": {},
   "outputs": [],
   "source": [
    "class SlideData():\n",
    "    def __init__(self, data_path, slide, label_path, pad_value, pad_token):\n",
    "        self.data_path = data_path\n",
    "        self.slide = slide\n",
    "        self.label_path = label_path\n",
    "        self.pad_value = pad_value\n",
    "        self.pad_token = pad_token\n",
    "        self.load_data()\n",
    "\n",
    "    def load_data(self):\n",
    "        adata = sc.read_h5ad(f'{self.data_path}/{self.slide}_Visium_deconv.h5ad')\n",
    "        \n",
    "        scfoundation_gene_df = pd.read_csv(f'{tokenizer_dir}/scfoundation_gene_df.csv')\n",
    "        scfoundation_gene_df.set_index('gene_ids', inplace=True)\n",
    "        total_gene_num = adata.shape[1]\n",
    "        adata = adata[:, adata.var_names.isin(scfoundation_gene_df.index)]\n",
    "        adata.var['gene_name'] = scfoundation_gene_df.loc[adata.var_names, 'gene_symbols'].values\n",
    "        seleted_gene_num = adata.shape[1]\n",
    "\n",
    "        print(\n",
    "            f\"match {seleted_gene_num}/{total_gene_num} genes \"\n",
    "            f\"in vocabulary of size 19264.\"\n",
    "        )\n",
    "\n",
    "        for celltype in adata.layers.keys():\n",
    "            adata.X = adata.layers[celltype]\n",
    "            sc.pp.normalize_total(adata, target_sum=1e4)\n",
    "            sc.pp.log1p(adata)\n",
    "            adata.uns.pop('log1p')\n",
    "            adata.layers[celltype] = adata.X\n",
    "\n",
    "        celltype_proportion = adata.obsm['q05_cell_abundance_w_sf']\n",
    "        celltype_proportion.rename(columns=lambda x: x[23:], inplace=True)\n",
    "        celltype_proportion = celltype_proportion.div(celltype_proportion.sum(axis=1), axis=0)\n",
    "        celltype_proportion[celltype_proportion < 0.05] = 0\n",
    "        celltype_proportion = celltype_proportion.div(celltype_proportion.sum(axis=1), axis=0)\n",
    "\n",
    "        self.adata = adata\n",
    "        self.celltype_proportion = celltype_proportion\n",
    "\n",
    "    def get_sc_data(self):\n",
    "        barcode_list = []\n",
    "        gexpr_feature = []\n",
    "        celltypes_labels = []\n",
    "        for i in range(self.adata.shape[0]):\n",
    "            barcode = self.adata.obs.index[i]\n",
    "            ct_prop = self.celltype_proportion.iloc[i][self.celltype_proportion.iloc[i]>0]\n",
    "            cell_num = 0\n",
    "            for ct in ct_prop.index:\n",
    "                celltypes_labels.append(ct)\n",
    "                cell_num += 1\n",
    "                barcode_list.append(f'{barcode}_{cell_num}')\n",
    "                gexpr_feature.append(self.adata.layers[ct][i].A)\n",
    "        gexpr_feature = np.concatenate(gexpr_feature)\n",
    "\n",
    "        adata_sc = anndata.AnnData(X=gexpr_feature, obs=pd.DataFrame({'celltype': celltypes_labels}, index=barcode_list), var=pd.DataFrame({'gene_name': self.adata.var['gene_name'].values}, index=self.adata.var_names.values), obsm=None)\n",
    "        self.adata = adata_sc\n",
    "\n",
    "    def prepare_data(self):\n",
    "        gene_list_df = pd.read_csv(f'{tokenizer_dir}/OS_scRNA_gene_index.19264.tsv', header=0, delimiter='\\t')\n",
    "        gene_list = list(gene_list_df['gene_name'])\n",
    "        gene_list_df.set_index('gene_name', inplace=True)\n",
    "\n",
    "        gexpr_feature = self.adata.X\n",
    "        idx = self.adata.obs_names.tolist()\n",
    "        col = self.adata.var.gene_name.tolist()\n",
    "        gexpr_feature = pd.DataFrame(gexpr_feature, index=idx, columns=col)\n",
    "        gexpr_feature, _ = load.main_gene_selection(gexpr_feature, gene_list)\n",
    "        S = gexpr_feature.sum(1)\n",
    "        T = S\n",
    "        TS = np.concatenate([[np.log10(T)],[np.log10(S)]],axis=0).T\n",
    "        data = np.concatenate([gexpr_feature,TS],axis=1)\n",
    "        self.data = data\n",
    "\n",
    "        df_label = pd.read_csv(f'{self.label_path}', header=0)\n",
    "        df_label = df_label[df_label['gene_ids'].isin(self.adata.var_names)]\n",
    "        gene_targets = self.adata.var.loc[df_label['gene_ids'],'gene_name'].values\n",
    "        gene_targets = gene_list_df.loc[gene_targets,'index'].values\n",
    "        gene_labels = df_label['label'].values\n",
    "        gene2label = dict(zip(gene_targets, gene_labels))\n",
    "        for g in gene_list_df['index'].values:\n",
    "            if g not in gene2label:\n",
    "                gene2label[g] = -100\n",
    "        gene2label[19264] = gene2label[19265] = gene2label[19266] = -100\n",
    "        \n",
    "        self.gene2label = gene2label\n",
    "        self.gene_targets = gene_targets\n",
    "        self.gene_labels = gene_labels\n",
    "\n",
    "    def prepare_train_and_valid_data(self, train_index, valid_index):\n",
    "        gene_targets_train = self.gene_targets[train_index]\n",
    "        gene_targets_valid = self.gene_targets[valid_index]\n",
    "\n",
    "        gene2label_train = self.gene2label.copy()\n",
    "        for gene in gene2label_train:\n",
    "            if gene not in gene_targets_train:\n",
    "                gene2label_train[gene] = -100\n",
    "        gene2label_valid = self.gene2label.copy()\n",
    "        for gene in gene2label_valid:\n",
    "            if gene not in gene_targets_valid:\n",
    "                gene2label_valid[gene] = -100\n",
    "\n",
    "        data = self.data\n",
    "        train_data = [d for d in data if len(set(np.nonzero(d)[0]).intersection(set(gene_targets_train)))>0]\n",
    "        valid_data = [d for d in data if len(set(np.nonzero(d)[0]).intersection(set(gene_targets_valid)))>0]\n",
    "        train_data = torch.from_numpy(np.array(train_data)).float()\n",
    "        valid_data = torch.from_numpy(np.array(valid_data)).float()\n",
    "        train_data_gene_ids = torch.arange(train_data.shape[1]).repeat(train_data.shape[0], 1)\n",
    "        valid_data_gene_ids = torch.arange(valid_data.shape[1]).repeat(valid_data.shape[0], 1)\n",
    "\n",
    "        train_data_index = train_data != 0\n",
    "        train_values, train_padding = load.gatherData(train_data, train_data_index, self.pad_value)\n",
    "        train_gene_ids, _ = load.gatherData(train_data_gene_ids, train_data_index, self.pad_token)\n",
    "        train_gene_labels = torch.from_numpy(np.vectorize(gene2label_train.get)(train_gene_ids.numpy()))\n",
    "        train_data = {'values': train_values, 'padding': train_padding, 'gene_ids': train_gene_ids, 'gene_labels': train_gene_labels}\n",
    "\n",
    "        valid_data_index = valid_data != 0\n",
    "        valid_values, valid_padding = load.gatherData(valid_data, valid_data_index, self.pad_value)\n",
    "        valid_gene_ids, _ = load.gatherData(valid_data_gene_ids, valid_data_index, self.pad_token)\n",
    "        valid_gene_labels = torch.from_numpy(np.vectorize(gene2label_valid.get)(valid_gene_ids.numpy()))\n",
    "        valid_data = {'values': valid_values, 'padding': valid_padding, 'gene_ids': valid_gene_ids, 'gene_labels': valid_gene_labels}\n",
    "\n",
    "        return train_data, valid_data"
   ]
  },
  {
   "cell_type": "code",
   "execution_count": 3,
   "metadata": {},
   "outputs": [],
   "source": [
    "class scF_Gcl(nn.Module):\n",
    "    def __init__(\n",
    "            self,\n",
    "            scf_token_emb,\n",
    "            scf_pos_emb,\n",
    "            scf_encoder,\n",
    "            d_model: int,\n",
    "            n_gcl: int = 2,\n",
    "            nlayers_gcl: int = 3,\n",
    "    ):\n",
    "        super(scF_Gcl, self).__init__()\n",
    "\n",
    "        # encoder\n",
    "        self.token_emb = scf_token_emb\n",
    "        self.pos_emb = scf_pos_emb\n",
    "        self.encoder = scf_encoder\n",
    "        self.gcl_decoder = GclDecoder(d_model, n_gcl, nlayers=nlayers_gcl)\n",
    "\n",
    "    def forward(self, gene_values, padding_label, gene_ids):\n",
    "\n",
    "        # token and positional embedding\n",
    "        x = self.token_emb(torch.unsqueeze(gene_values, 2), output_weight = 0)\n",
    "\n",
    "        position_emb = self.pos_emb(gene_ids)\n",
    "        x += position_emb\n",
    "        x = self.encoder(x, padding_mask=padding_label)\n",
    "        output = self.gcl_decoder(x)\n",
    "\n",
    "        return output\n",
    "\n",
    "\n",
    "class GclDecoder(nn.Module):\n",
    "    \"\"\"\n",
    "    Decoder for gene classification task.\n",
    "    \"\"\"\n",
    "\n",
    "    def __init__(\n",
    "        self,\n",
    "        d_model: int,\n",
    "        n_gcl: int,\n",
    "        nlayers: int = 3,\n",
    "        activation: callable = nn.ReLU,\n",
    "    ):\n",
    "        super().__init__()\n",
    "        # module list\n",
    "        self._decoder = nn.ModuleList()\n",
    "        for i in range(nlayers - 1):\n",
    "            self._decoder.append(nn.Linear(d_model, d_model))\n",
    "            self._decoder.append(activation())\n",
    "            self._decoder.append(nn.LayerNorm(d_model))\n",
    "        self.out_layer = nn.Linear(d_model, n_gcl)\n",
    "\n",
    "    def forward(self, x: Tensor) -> Tensor:\n",
    "        \"\"\"\n",
    "        Args:\n",
    "            x: Tensor, shape [batch_size, seq_len, embsize]\n",
    "        \"\"\"\n",
    "        for layer in self._decoder:\n",
    "            x = layer(x)\n",
    "        return self.out_layer(x)"
   ]
  },
  {
   "cell_type": "code",
   "execution_count": 4,
   "metadata": {},
   "outputs": [],
   "source": [
    "criterion_cls = nn.CrossEntropyLoss()\n",
    "\n",
    "def train(model: nn.Module, train_data ,valid_data, batch_size, max_batch) -> None:\n",
    "    \"\"\"\n",
    "    Train the model for one epoch.\n",
    "    \"\"\"\n",
    "    lr = 1e-4\n",
    "    amp = True\n",
    "    schedule_ratio = 0.9\n",
    "    schedule_interval = 1\n",
    "    log_interval = 10\n",
    "\n",
    "    optimizer = torch.optim.Adam(\n",
    "            model.parameters(), lr=lr, eps=1e-4 if amp else 1e-8\n",
    "    )\n",
    "    scheduler = torch.optim.lr_scheduler.StepLR(\n",
    "        optimizer, schedule_interval, gamma=schedule_ratio\n",
    "    )\n",
    "    scaler = torch.cuda.amp.GradScaler(enabled=amp)\n",
    "\n",
    "    model.train()\n",
    "    total_gcl = 0.0\n",
    "    total_error = 0.0\n",
    "    \n",
    "    best_val_auc = 0\n",
    "    best_fpr = 0\n",
    "    best_tpr = 0\n",
    "    best_model = None\n",
    "\n",
    "    start_time = time.time()\n",
    "\n",
    "    train_values = train_data['values']\n",
    "    train_padding = train_data['padding']\n",
    "    train_gene_ids = train_data['gene_ids']\n",
    "    train_gene_labels = train_data['gene_labels']\n",
    "\n",
    "    num_batches = np.ceil(len(train_values)/batch_size).astype(int)\n",
    "    for k in range(0, len(train_values), batch_size):\n",
    "        batch = int(k/batch_size+1)\n",
    "        if batch > max_batch:\n",
    "            break\n",
    "        with torch.cuda.amp.autocast(enabled=amp):\n",
    "            output = model(train_values[k:k+batch_size].to(device), \n",
    "                           train_padding[k:k+batch_size].to(device), \n",
    "                           train_gene_ids[k:k+batch_size].to(device))\n",
    "            \n",
    "            batch_train_gene_labels = train_gene_labels[k:k+batch_size].to(device)\n",
    "            batch_logits = output[torch.logical_or(batch_train_gene_labels==1, batch_train_gene_labels==0)]\n",
    "            batch_labels = batch_train_gene_labels[torch.logical_or(batch_train_gene_labels==1, batch_train_gene_labels==0)]\n",
    "            targets = train_gene_ids[k:k+batch_size].to(device)[torch.logical_or(batch_train_gene_labels==1, batch_train_gene_labels==0)]\n",
    "            loss_gcl = 0.0\n",
    "            for t in set(targets):\n",
    "                loss_gcl += criterion_cls(batch_logits[targets==t], batch_labels[targets==t])\n",
    "            loss_gcl = loss_gcl/len(set(targets))\n",
    "\n",
    "            error_rate_gcl = 1 - (\n",
    "                    (batch_logits.argmax(1) == batch_labels)\n",
    "                    .sum()\n",
    "                    .item()\n",
    "                ) / batch_labels.size(0)\n",
    "            \n",
    "        model.zero_grad()\n",
    "        scaler.scale(loss_gcl).backward()\n",
    "        scaler.unscale_(optimizer)\n",
    "        scaler.step(optimizer)\n",
    "        scaler.update()\n",
    "\n",
    "        total_gcl += loss_gcl.item()\n",
    "        total_error += error_rate_gcl\n",
    "        if batch % log_interval == 0 and batch > 0:\n",
    "            lr = scheduler.get_last_lr()[0]\n",
    "            sec_per_batch = (time.time() - start_time) / log_interval\n",
    "            cur_gcl = total_gcl / log_interval\n",
    "            cur_error = total_error / log_interval\n",
    "            print(f\"| Split {split} | {batch:3d}/{num_batches:3d} batches | \"\n",
    "                f\"lr {lr:05.8f} | sec/batch {sec_per_batch:5.1f} | \"\n",
    "                f\"gcl {cur_gcl:5.5f} | \"\n",
    "                f\"err {cur_error:1.5f} | \"\n",
    "            )\n",
    "            total_gcl = 0\n",
    "            total_error = 0\n",
    "            start_time = time.time()\n",
    "        if batch % (10*log_interval) == 0 and batch > 0:   \n",
    "            val_auc, fpr, tpr  = evaluate(model, valid_data, batch_size)\n",
    "            if val_auc > best_val_auc:\n",
    "                best_val_auc = val_auc\n",
    "                best_fpr = fpr\n",
    "                best_tpr = tpr\n",
    "                best_model = copy.deepcopy(model)\n",
    "            model.train()\n",
    "            start_time = time.time()\n",
    "\n",
    "    interp_tpr = np.interp(mean_fpr, best_fpr, best_tpr)\n",
    "    interp_tpr[0] = 0.0\n",
    "    return best_model, interp_tpr, best_fpr, best_tpr\n",
    "\n",
    "def py_softmax(vector):\n",
    "\te = np.exp(vector)\n",
    "\treturn e / e.sum()\n",
    "\n",
    "def evaluate(model: nn.Module, valid_data, batch_size) -> None:\n",
    "    amp = True\n",
    "    \n",
    "    model.eval()\n",
    "    total_gcl = 0.0\n",
    "    total_error = 0.0\n",
    "    total_num = 0\n",
    "    \n",
    "    logits = []\n",
    "    labels = []\n",
    "\n",
    "    valid_values = valid_data['values']\n",
    "    valid_padding = valid_data['padding']\n",
    "    valid_gene_ids = valid_data['gene_ids']\n",
    "    valid_gene_labels = valid_data['gene_labels']\n",
    "\n",
    "    with torch.no_grad():\n",
    "        for k in tqdm(range(0, len(valid_values), batch_size)):\n",
    "            # if k>100*batch_size:\n",
    "            #     break\n",
    "            with torch.cuda.amp.autocast(enabled=amp):\n",
    "                output = model(valid_values[k:k+batch_size].to(device), \n",
    "                           valid_padding[k:k+batch_size].to(device), \n",
    "                           valid_gene_ids[k:k+batch_size].to(device))\n",
    "            \n",
    "                batch_valid_gene_labels = valid_gene_labels[k:k+batch_size].to(device)\n",
    "                batch_logits = output[torch.logical_or(batch_valid_gene_labels==1, batch_valid_gene_labels==0)]\n",
    "                batch_labels = batch_valid_gene_labels[torch.logical_or(batch_valid_gene_labels==1, batch_valid_gene_labels==0)]\n",
    "                logits.append(batch_logits.to('cpu'))\n",
    "                labels.append(batch_labels.to('cpu'))\n",
    "            \n",
    "            accuracy = (batch_logits.argmax(1) == batch_labels).sum().item()\n",
    "            total_error += batch_labels.size(0) - accuracy\n",
    "            total_num += batch_labels.size(0)\n",
    "            total_gcl += criterion_cls(batch_logits, batch_labels).item()*batch_labels.size(0) \n",
    "\n",
    "    logits = torch.concat(logits).float()\n",
    "    labels = torch.concat(labels)\n",
    "\n",
    "    y_score = [py_softmax(item)[1] for item in logits.numpy()]\n",
    "    y_true = labels.numpy()\n",
    "    fpr, tpr, _ = roc_curve(y_true, y_score)\n",
    "    auc_value = auc(fpr, tpr)\n",
    "\n",
    "    val_err = total_error / total_num\n",
    "    val_loss = total_gcl / total_num\n",
    "    print(\"-\" * 89)\n",
    "    print(\n",
    "        f\"valid accuracy: {1-val_err:1.4f} | \"\n",
    "        f\"valid auc: {auc_value:1.4f} | \"\n",
    "        f\"valid loss: {val_loss:1.4f} | \"\n",
    "        f\"valid err: {val_err:1.4f}\"\n",
    "    )\n",
    "    print(\"-\" * 89)\n",
    "    return auc_value, fpr, tpr\n",
    "\n",
    "\n",
    "def train_and_evaluate(model, train_data, valid_data, batch_size, max_batch):\n",
    "\n",
    "    best_model, interp_tpr, best_fpr, best_tpr = train(model, train_data, valid_data, batch_size, max_batch)\n",
    "    \n",
    "    return best_model, interp_tpr, best_fpr, best_tpr"
   ]
  },
  {
   "cell_type": "code",
   "execution_count": 5,
   "metadata": {},
   "outputs": [],
   "source": [
    "class scFoundation(nn.Module):\n",
    "    def __init__(\n",
    "            self,\n",
    "            scf_token_emb,\n",
    "            scf_pos_emb,\n",
    "            scf_encoder,\n",
    "            scf_decoder,\n",
    "            scf_decoder_embed,\n",
    "            scf_norm,\n",
    "            scf_to_final,\n",
    "    ):\n",
    "        super(scFoundation, self).__init__()\n",
    "\n",
    "        # encoder\n",
    "        self.token_emb = scf_token_emb\n",
    "        self.pos_emb = scf_pos_emb\n",
    "\n",
    "        # ## DEBUG\n",
    "        self.encoder = scf_encoder\n",
    "\n",
    "        ##### decoder\n",
    "        self.decoder = scf_decoder\n",
    "        self.decoder_embed = scf_decoder_embed\n",
    "        self.norm = scf_norm\n",
    "        self.to_final = scf_to_final\n",
    "\n",
    "    def forward(self, x, padding_label, encoder_position_gene_ids, encoder_labels, decoder_data,\n",
    "                decoder_position_gene_ids, decoder_data_padding_labels, **kwargs):\n",
    "\n",
    "        # token and positional embedding\n",
    "        x = self.token_emb(torch.unsqueeze(x, 2), output_weight = 0)\n",
    "\n",
    "        position_emb = self.pos_emb(encoder_position_gene_ids)\n",
    "        x += position_emb\n",
    "        x = self.encoder(x, padding_mask=padding_label)\n",
    "\n",
    "        decoder_data = self.token_emb(torch.unsqueeze(decoder_data, 2))\n",
    "        position_emb = self.pos_emb(decoder_position_gene_ids)\n",
    "        batch_idx, gen_idx = (encoder_labels == True).nonzero(as_tuple=True)\n",
    "        decoder_data[batch_idx, gen_idx] = x[~padding_label].to(decoder_data.dtype)\n",
    "\n",
    "        decoder_data += position_emb\n",
    "\n",
    "        decoder_data = self.decoder_embed(decoder_data)\n",
    "        x = self.decoder(decoder_data, padding_mask=decoder_data_padding_labels)\n",
    "\n",
    "        x = self.norm(x)\n",
    "        # return x\n",
    "        x = self.to_final(x)\n",
    "        return x.squeeze(2)"
   ]
  },
  {
   "cell_type": "code",
   "execution_count": 6,
   "metadata": {},
   "outputs": [],
   "source": [
    "def initialize_model(model_file):\n",
    "    if model_file is None:\n",
    "        # load pretrained model\n",
    "        pretrainmodel, pretrainconfig = load.load_model_frommmf('scfoundation/models/models.ckpt')\n",
    "    else:\n",
    "        # load fine-tuned model\n",
    "        pretrainmodel = torch.load(f'scfoundation/fine-tuning/{model_file}', map_location='cpu')\n",
    "        pretrainmodel = pretrainmodel.module\n",
    "    \n",
    "    model = scF_Gcl(pretrainmodel.token_emb,\n",
    "            pretrainmodel.pos_emb,\n",
    "            pretrainmodel.encoder,\n",
    "            d_model = 768,\n",
    "            n_gcl = 2,\n",
    "            nlayers_gcl = 3\n",
    "            )\n",
    "    \n",
    "    pre_freeze_param_count = sum(dict((p.data_ptr(), p.numel()) for p in model.parameters() if p.requires_grad).values())\n",
    "    for name, para in model.named_parameters():\n",
    "            para.requires_grad = False\n",
    "    for name, para in model.gcl_decoder.named_parameters():\n",
    "            para.requires_grad = True\n",
    "    post_freeze_param_count = sum(dict((p.data_ptr(), p.numel()) for p in model.parameters() if p.requires_grad).values())\n",
    "    print(f\"Total Pre freeze Params {(pre_freeze_param_count )}\")\n",
    "    print(f\"Total Post freeze Params {(post_freeze_param_count )}\")\n",
    "\n",
    "    return model"
   ]
  },
  {
   "cell_type": "code",
   "execution_count": 7,
   "metadata": {},
   "outputs": [],
   "source": [
    "pad_token = 19266\n",
    "pad_value = 103\n",
    "tokenizer_dir = '/home/shcao/spFormer/spformer/tokenizer/'"
   ]
  },
  {
   "cell_type": "code",
   "execution_count": 8,
   "metadata": {},
   "outputs": [
    {
     "name": "stdout",
     "output_type": "stream",
     "text": [
      "match 11458/12445 genes in vocabulary of size 19264.\n",
      "Cross-validate on dataset human_myocardial_infarction slide ACH005 - split 1\n",
      "Total Pre freeze Params 101127486\n",
      "Total Post freeze Params 1185794\n",
      "| Split 1 |  10/547 batches | lr 0.00010000 | sec/batch   1.0 | gcl 0.68564 | err 0.39261 | \n",
      "| Split 1 |  20/547 batches | lr 0.00010000 | sec/batch   0.8 | gcl 0.67038 | err 0.39506 | \n",
      "| Split 1 |  30/547 batches | lr 0.00010000 | sec/batch   0.8 | gcl 0.64312 | err 0.38499 | \n",
      "| Split 1 |  40/547 batches | lr 0.00010000 | sec/batch   0.8 | gcl 0.62603 | err 0.36861 | \n",
      "| Split 1 |  50/547 batches | lr 0.00010000 | sec/batch   0.8 | gcl 0.63266 | err 0.37459 | \n",
      "| Split 1 |  60/547 batches | lr 0.00010000 | sec/batch   0.8 | gcl 0.64044 | err 0.38912 | \n",
      "| Split 1 |  70/547 batches | lr 0.00010000 | sec/batch   0.8 | gcl 0.62665 | err 0.36510 | \n",
      "| Split 1 |  80/547 batches | lr 0.00010000 | sec/batch   0.8 | gcl 0.62764 | err 0.37544 | \n",
      "| Split 1 |  90/547 batches | lr 0.00010000 | sec/batch   0.8 | gcl 0.62010 | err 0.37071 | \n",
      "| Split 1 | 100/547 batches | lr 0.00010000 | sec/batch   0.8 | gcl 0.62015 | err 0.35796 | \n"
     ]
    },
    {
     "name": "stderr",
     "output_type": "stream",
     "text": [
      "100%|██████████| 545/545 [03:50<00:00,  2.37it/s]\n"
     ]
    },
    {
     "name": "stdout",
     "output_type": "stream",
     "text": [
      "-----------------------------------------------------------------------------------------\n",
      "valid accuracy: 0.6555 | valid auc: 0.7180 | valid loss: 0.5788 | valid err: 0.3445\n",
      "-----------------------------------------------------------------------------------------\n",
      "| Split 1 | 110/547 batches | lr 0.00010000 | sec/batch   0.8 | gcl 0.61494 | err 0.35713 | \n",
      "| Split 1 | 120/547 batches | lr 0.00010000 | sec/batch   0.8 | gcl 0.61143 | err 0.35339 | \n",
      "| Split 1 | 130/547 batches | lr 0.00010000 | sec/batch   0.8 | gcl 0.60684 | err 0.34774 | \n",
      "| Split 1 | 140/547 batches | lr 0.00010000 | sec/batch   0.8 | gcl 0.61142 | err 0.35666 | \n",
      "| Split 1 | 150/547 batches | lr 0.00010000 | sec/batch   0.8 | gcl 0.60618 | err 0.35315 | \n",
      "| Split 1 | 160/547 batches | lr 0.00010000 | sec/batch   0.8 | gcl 0.61226 | err 0.35862 | \n",
      "| Split 1 | 170/547 batches | lr 0.00010000 | sec/batch   0.8 | gcl 0.60370 | err 0.34099 | \n",
      "| Split 1 | 180/547 batches | lr 0.00010000 | sec/batch   0.8 | gcl 0.60346 | err 0.35052 | \n",
      "| Split 1 | 190/547 batches | lr 0.00010000 | sec/batch   0.8 | gcl 0.60778 | err 0.35807 | \n",
      "| Split 1 | 200/547 batches | lr 0.00010000 | sec/batch   0.8 | gcl 0.60059 | err 0.34600 | \n"
     ]
    },
    {
     "name": "stderr",
     "output_type": "stream",
     "text": [
      "100%|██████████| 545/545 [03:50<00:00,  2.36it/s]\n"
     ]
    },
    {
     "name": "stdout",
     "output_type": "stream",
     "text": [
      "-----------------------------------------------------------------------------------------\n",
      "valid accuracy: 0.6700 | valid auc: 0.7086 | valid loss: 0.5915 | valid err: 0.3300\n",
      "-----------------------------------------------------------------------------------------\n",
      "| Split 1 | 210/547 batches | lr 0.00010000 | sec/batch   0.8 | gcl 0.59354 | err 0.34144 | \n",
      "| Split 1 | 220/547 batches | lr 0.00010000 | sec/batch   0.8 | gcl 0.60978 | err 0.35923 | \n",
      "| Split 1 | 230/547 batches | lr 0.00010000 | sec/batch   0.8 | gcl 0.58880 | err 0.33905 | \n",
      "| Split 1 | 240/547 batches | lr 0.00010000 | sec/batch   0.8 | gcl 0.60636 | err 0.35401 | \n",
      "| Split 1 | 250/547 batches | lr 0.00010000 | sec/batch   0.8 | gcl 0.61937 | err 0.36784 | \n",
      "| Split 1 | 260/547 batches | lr 0.00010000 | sec/batch   0.8 | gcl 0.61634 | err 0.36391 | \n",
      "| Split 1 | 270/547 batches | lr 0.00010000 | sec/batch   0.8 | gcl 0.58654 | err 0.33899 | \n",
      "| Split 1 | 280/547 batches | lr 0.00010000 | sec/batch   0.8 | gcl 0.58891 | err 0.33807 | \n",
      "| Split 1 | 290/547 batches | lr 0.00010000 | sec/batch   0.8 | gcl 0.58590 | err 0.33594 | \n",
      "| Split 1 | 300/547 batches | lr 0.00010000 | sec/batch   0.8 | gcl 0.59144 | err 0.34313 | \n"
     ]
    },
    {
     "name": "stderr",
     "output_type": "stream",
     "text": [
      "100%|██████████| 545/545 [03:50<00:00,  2.36it/s]\n"
     ]
    },
    {
     "name": "stdout",
     "output_type": "stream",
     "text": [
      "-----------------------------------------------------------------------------------------\n",
      "valid accuracy: 0.6755 | valid auc: 0.7141 | valid loss: 0.5698 | valid err: 0.3245\n",
      "-----------------------------------------------------------------------------------------\n",
      "| Split 1 | 310/547 batches | lr 0.00010000 | sec/batch   0.8 | gcl 0.57606 | err 0.32797 | \n",
      "| Split 1 | 320/547 batches | lr 0.00010000 | sec/batch   0.8 | gcl 0.58198 | err 0.33764 | \n",
      "| Split 1 | 330/547 batches | lr 0.00010000 | sec/batch   0.8 | gcl 0.58249 | err 0.33964 | \n",
      "| Split 1 | 340/547 batches | lr 0.00010000 | sec/batch   0.8 | gcl 0.58146 | err 0.33023 | \n",
      "| Split 1 | 350/547 batches | lr 0.00010000 | sec/batch   0.8 | gcl 0.59268 | err 0.34518 | \n",
      "| Split 1 | 360/547 batches | lr 0.00010000 | sec/batch   0.8 | gcl 0.58418 | err 0.33392 | \n",
      "| Split 1 | 370/547 batches | lr 0.00010000 | sec/batch   0.8 | gcl 0.58746 | err 0.34010 | \n",
      "| Split 1 | 380/547 batches | lr 0.00010000 | sec/batch   0.8 | gcl 0.57315 | err 0.32479 | \n",
      "| Split 1 | 390/547 batches | lr 0.00010000 | sec/batch   0.8 | gcl 0.58064 | err 0.33001 | \n",
      "| Split 1 | 400/547 batches | lr 0.00010000 | sec/batch   0.8 | gcl 0.56086 | err 0.32951 | \n"
     ]
    },
    {
     "name": "stderr",
     "output_type": "stream",
     "text": [
      "100%|██████████| 545/545 [03:50<00:00,  2.36it/s]\n"
     ]
    },
    {
     "name": "stdout",
     "output_type": "stream",
     "text": [
      "-----------------------------------------------------------------------------------------\n",
      "valid accuracy: 0.6599 | valid auc: 0.7089 | valid loss: 0.5833 | valid err: 0.3401\n",
      "-----------------------------------------------------------------------------------------\n",
      "| Split 1 | 410/547 batches | lr 0.00010000 | sec/batch   0.8 | gcl 0.57306 | err 0.32794 | \n",
      "| Split 1 | 420/547 batches | lr 0.00010000 | sec/batch   0.8 | gcl 0.56231 | err 0.32295 | \n",
      "| Split 1 | 430/547 batches | lr 0.00010000 | sec/batch   0.8 | gcl 0.57573 | err 0.33155 | \n",
      "| Split 1 | 440/547 batches | lr 0.00010000 | sec/batch   0.8 | gcl 0.57411 | err 0.32949 | \n",
      "| Split 1 | 450/547 batches | lr 0.00010000 | sec/batch   0.8 | gcl 0.56448 | err 0.32662 | \n",
      "| Split 1 | 460/547 batches | lr 0.00010000 | sec/batch   0.8 | gcl 0.57866 | err 0.33565 | \n",
      "| Split 1 | 470/547 batches | lr 0.00010000 | sec/batch   0.8 | gcl 0.55603 | err 0.30771 | \n",
      "| Split 1 | 480/547 batches | lr 0.00010000 | sec/batch   0.8 | gcl 0.55779 | err 0.31933 | \n",
      "| Split 1 | 490/547 batches | lr 0.00010000 | sec/batch   0.8 | gcl 0.56042 | err 0.32137 | \n",
      "| Split 1 | 500/547 batches | lr 0.00010000 | sec/batch   0.8 | gcl 0.55021 | err 0.30088 | \n"
     ]
    },
    {
     "name": "stderr",
     "output_type": "stream",
     "text": [
      "100%|██████████| 545/545 [03:50<00:00,  2.36it/s]\n"
     ]
    },
    {
     "name": "stdout",
     "output_type": "stream",
     "text": [
      "-----------------------------------------------------------------------------------------\n",
      "valid accuracy: 0.6241 | valid auc: 0.6705 | valid loss: 0.6339 | valid err: 0.3759\n",
      "-----------------------------------------------------------------------------------------\n",
      "Cross-validate on dataset human_myocardial_infarction slide ACH005 - split 2\n",
      "Total Pre freeze Params 101127486\n",
      "Total Post freeze Params 1185794\n",
      "| Split 2 |  10/547 batches | lr 0.00010000 | sec/batch   0.8 | gcl 0.67942 | err 0.38461 | \n",
      "| Split 2 |  20/547 batches | lr 0.00010000 | sec/batch   0.8 | gcl 0.63348 | err 0.36866 | \n",
      "| Split 2 |  30/547 batches | lr 0.00010000 | sec/batch   0.8 | gcl 0.61053 | err 0.35419 | \n",
      "| Split 2 |  40/547 batches | lr 0.00010000 | sec/batch   0.8 | gcl 0.60609 | err 0.35155 | \n",
      "| Split 2 |  50/547 batches | lr 0.00010000 | sec/batch   0.8 | gcl 0.60209 | err 0.34170 | \n",
      "| Split 2 |  60/547 batches | lr 0.00010000 | sec/batch   0.8 | gcl 0.62147 | err 0.36121 | \n",
      "| Split 2 |  70/547 batches | lr 0.00010000 | sec/batch   0.8 | gcl 0.61691 | err 0.36108 | \n",
      "| Split 2 |  80/547 batches | lr 0.00010000 | sec/batch   0.9 | gcl 0.61025 | err 0.36345 | \n",
      "| Split 2 |  90/547 batches | lr 0.00010000 | sec/batch   0.8 | gcl 0.60844 | err 0.34892 | \n",
      "| Split 2 | 100/547 batches | lr 0.00010000 | sec/batch   0.8 | gcl 0.59681 | err 0.33742 | \n"
     ]
    },
    {
     "name": "stderr",
     "output_type": "stream",
     "text": [
      "100%|██████████| 544/544 [03:50<00:00,  2.36it/s]\n"
     ]
    },
    {
     "name": "stdout",
     "output_type": "stream",
     "text": [
      "-----------------------------------------------------------------------------------------\n",
      "valid accuracy: 0.5687 | valid auc: 0.6034 | valid loss: 0.6911 | valid err: 0.4313\n",
      "-----------------------------------------------------------------------------------------\n",
      "| Split 2 | 110/547 batches | lr 0.00010000 | sec/batch   0.8 | gcl 0.58321 | err 0.33365 | \n",
      "| Split 2 | 120/547 batches | lr 0.00010000 | sec/batch   0.9 | gcl 0.58763 | err 0.33863 | \n",
      "| Split 2 | 130/547 batches | lr 0.00010000 | sec/batch   0.8 | gcl 0.57271 | err 0.32436 | \n",
      "| Split 2 | 140/547 batches | lr 0.00010000 | sec/batch   0.8 | gcl 0.58300 | err 0.32598 | \n",
      "| Split 2 | 150/547 batches | lr 0.00010000 | sec/batch   0.8 | gcl 0.58371 | err 0.33002 | \n",
      "| Split 2 | 160/547 batches | lr 0.00010000 | sec/batch   0.9 | gcl 0.58611 | err 0.33218 | \n",
      "| Split 2 | 170/547 batches | lr 0.00010000 | sec/batch   0.8 | gcl 0.56761 | err 0.32149 | \n",
      "| Split 2 | 180/547 batches | lr 0.00010000 | sec/batch   0.8 | gcl 0.57326 | err 0.32952 | \n",
      "| Split 2 | 190/547 batches | lr 0.00010000 | sec/batch   0.8 | gcl 0.56632 | err 0.32210 | \n",
      "| Split 2 | 200/547 batches | lr 0.00010000 | sec/batch   0.8 | gcl 0.57518 | err 0.33020 | \n"
     ]
    },
    {
     "name": "stderr",
     "output_type": "stream",
     "text": [
      "100%|██████████| 544/544 [03:50<00:00,  2.36it/s]\n"
     ]
    },
    {
     "name": "stdout",
     "output_type": "stream",
     "text": [
      "-----------------------------------------------------------------------------------------\n",
      "valid accuracy: 0.5736 | valid auc: 0.6043 | valid loss: 0.6914 | valid err: 0.4264\n",
      "-----------------------------------------------------------------------------------------\n",
      "| Split 2 | 210/547 batches | lr 0.00010000 | sec/batch   0.9 | gcl 0.56629 | err 0.32186 | \n",
      "| Split 2 | 220/547 batches | lr 0.00010000 | sec/batch   0.9 | gcl 0.58510 | err 0.33561 | \n",
      "| Split 2 | 230/547 batches | lr 0.00010000 | sec/batch   0.8 | gcl 0.55856 | err 0.31287 | \n",
      "| Split 2 | 240/547 batches | lr 0.00010000 | sec/batch   0.9 | gcl 0.58592 | err 0.33933 | \n",
      "| Split 2 | 250/547 batches | lr 0.00010000 | sec/batch   0.9 | gcl 0.59191 | err 0.33414 | \n",
      "| Split 2 | 260/547 batches | lr 0.00010000 | sec/batch   0.8 | gcl 0.58907 | err 0.33115 | \n",
      "| Split 2 | 270/547 batches | lr 0.00010000 | sec/batch   0.8 | gcl 0.55134 | err 0.30324 | \n",
      "| Split 2 | 280/547 batches | lr 0.00010000 | sec/batch   0.9 | gcl 0.56892 | err 0.32147 | \n",
      "| Split 2 | 290/547 batches | lr 0.00010000 | sec/batch   0.9 | gcl 0.57184 | err 0.32647 | \n",
      "| Split 2 | 300/547 batches | lr 0.00010000 | sec/batch   0.9 | gcl 0.58134 | err 0.33914 | \n"
     ]
    },
    {
     "name": "stderr",
     "output_type": "stream",
     "text": [
      "100%|██████████| 544/544 [03:50<00:00,  2.36it/s]\n"
     ]
    },
    {
     "name": "stdout",
     "output_type": "stream",
     "text": [
      "-----------------------------------------------------------------------------------------\n",
      "valid accuracy: 0.5673 | valid auc: 0.6032 | valid loss: 0.7052 | valid err: 0.4327\n",
      "-----------------------------------------------------------------------------------------\n",
      "| Split 2 | 310/547 batches | lr 0.00010000 | sec/batch   0.9 | gcl 0.56027 | err 0.31842 | \n",
      "| Split 2 | 320/547 batches | lr 0.00010000 | sec/batch   0.9 | gcl 0.55320 | err 0.30776 | \n",
      "| Split 2 | 330/547 batches | lr 0.00010000 | sec/batch   0.9 | gcl 0.56195 | err 0.31660 | \n",
      "| Split 2 | 340/547 batches | lr 0.00010000 | sec/batch   0.9 | gcl 0.55629 | err 0.30832 | \n",
      "| Split 2 | 350/547 batches | lr 0.00010000 | sec/batch   0.8 | gcl 0.56023 | err 0.31494 | \n",
      "| Split 2 | 360/547 batches | lr 0.00010000 | sec/batch   0.9 | gcl 0.56326 | err 0.31690 | \n",
      "| Split 2 | 370/547 batches | lr 0.00010000 | sec/batch   0.9 | gcl 0.56059 | err 0.31649 | \n",
      "| Split 2 | 380/547 batches | lr 0.00010000 | sec/batch   0.9 | gcl 0.54189 | err 0.30033 | \n",
      "| Split 2 | 390/547 batches | lr 0.00010000 | sec/batch   0.9 | gcl 0.54167 | err 0.30558 | \n",
      "| Split 2 | 400/547 batches | lr 0.00010000 | sec/batch   0.9 | gcl 0.54189 | err 0.29877 | \n"
     ]
    },
    {
     "name": "stderr",
     "output_type": "stream",
     "text": [
      "100%|██████████| 544/544 [03:49<00:00,  2.37it/s]\n"
     ]
    },
    {
     "name": "stdout",
     "output_type": "stream",
     "text": [
      "-----------------------------------------------------------------------------------------\n",
      "valid accuracy: 0.5560 | valid auc: 0.5910 | valid loss: 0.7303 | valid err: 0.4440\n",
      "-----------------------------------------------------------------------------------------\n",
      "| Split 2 | 410/547 batches | lr 0.00010000 | sec/batch   0.9 | gcl 0.54730 | err 0.31353 | \n",
      "| Split 2 | 420/547 batches | lr 0.00010000 | sec/batch   0.9 | gcl 0.54656 | err 0.31110 | \n",
      "| Split 2 | 430/547 batches | lr 0.00010000 | sec/batch   0.9 | gcl 0.53954 | err 0.30197 | \n",
      "| Split 2 | 440/547 batches | lr 0.00010000 | sec/batch   0.8 | gcl 0.53371 | err 0.28961 | \n",
      "| Split 2 | 450/547 batches | lr 0.00010000 | sec/batch   0.8 | gcl 0.54448 | err 0.30835 | \n",
      "| Split 2 | 460/547 batches | lr 0.00010000 | sec/batch   0.8 | gcl 0.54498 | err 0.30217 | \n",
      "| Split 2 | 470/547 batches | lr 0.00010000 | sec/batch   0.8 | gcl 0.53757 | err 0.30032 | \n",
      "| Split 2 | 480/547 batches | lr 0.00010000 | sec/batch   0.8 | gcl 0.52962 | err 0.29224 | \n",
      "| Split 2 | 490/547 batches | lr 0.00010000 | sec/batch   0.9 | gcl 0.52630 | err 0.28491 | \n",
      "| Split 2 | 500/547 batches | lr 0.00010000 | sec/batch   0.8 | gcl 0.53494 | err 0.29680 | \n"
     ]
    },
    {
     "name": "stderr",
     "output_type": "stream",
     "text": [
      "100%|██████████| 544/544 [03:50<00:00,  2.36it/s]\n"
     ]
    },
    {
     "name": "stdout",
     "output_type": "stream",
     "text": [
      "-----------------------------------------------------------------------------------------\n",
      "valid accuracy: 0.5689 | valid auc: 0.5870 | valid loss: 0.7229 | valid err: 0.4311\n",
      "-----------------------------------------------------------------------------------------\n",
      "Cross-validate on dataset human_myocardial_infarction slide ACH005 - split 3\n",
      "Total Pre freeze Params 101127486\n",
      "Total Post freeze Params 1185794\n",
      "| Split 3 |  10/547 batches | lr 0.00010000 | sec/batch   0.8 | gcl 0.72939 | err 0.41191 | \n",
      "| Split 3 |  20/547 batches | lr 0.00010000 | sec/batch   0.8 | gcl 0.68355 | err 0.40247 | \n",
      "| Split 3 |  30/547 batches | lr 0.00010000 | sec/batch   0.8 | gcl 0.63963 | err 0.38032 | \n",
      "| Split 3 |  40/547 batches | lr 0.00010000 | sec/batch   0.8 | gcl 0.63312 | err 0.36868 | \n",
      "| Split 3 |  50/547 batches | lr 0.00010000 | sec/batch   0.8 | gcl 0.63154 | err 0.37690 | \n",
      "| Split 3 |  60/547 batches | lr 0.00010000 | sec/batch   0.9 | gcl 0.65211 | err 0.40116 | \n",
      "| Split 3 |  70/547 batches | lr 0.00010000 | sec/batch   0.8 | gcl 0.63412 | err 0.37955 | \n",
      "| Split 3 |  80/547 batches | lr 0.00010000 | sec/batch   0.9 | gcl 0.63115 | err 0.37968 | \n",
      "| Split 3 |  90/547 batches | lr 0.00010000 | sec/batch   0.8 | gcl 0.62443 | err 0.36861 | \n",
      "| Split 3 | 100/547 batches | lr 0.00010000 | sec/batch   0.8 | gcl 0.63683 | err 0.38642 | \n"
     ]
    },
    {
     "name": "stderr",
     "output_type": "stream",
     "text": [
      "100%|██████████| 546/546 [03:51<00:00,  2.36it/s]\n"
     ]
    },
    {
     "name": "stdout",
     "output_type": "stream",
     "text": [
      "-----------------------------------------------------------------------------------------\n",
      "valid accuracy: 0.6975 | valid auc: 0.7734 | valid loss: 0.5426 | valid err: 0.3025\n",
      "-----------------------------------------------------------------------------------------\n",
      "| Split 3 | 110/547 batches | lr 0.00010000 | sec/batch   0.8 | gcl 0.61629 | err 0.36383 | \n",
      "| Split 3 | 120/547 batches | lr 0.00010000 | sec/batch   0.9 | gcl 0.61583 | err 0.35816 | \n",
      "| Split 3 | 130/547 batches | lr 0.00010000 | sec/batch   0.8 | gcl 0.61076 | err 0.35509 | \n",
      "| Split 3 | 140/547 batches | lr 0.00010000 | sec/batch   0.8 | gcl 0.61400 | err 0.35175 | \n",
      "| Split 3 | 150/547 batches | lr 0.00010000 | sec/batch   0.8 | gcl 0.62035 | err 0.36561 | \n",
      "| Split 3 | 160/547 batches | lr 0.00010000 | sec/batch   0.8 | gcl 0.62154 | err 0.36642 | \n",
      "| Split 3 | 170/547 batches | lr 0.00010000 | sec/batch   0.8 | gcl 0.60712 | err 0.35634 | \n",
      "| Split 3 | 180/547 batches | lr 0.00010000 | sec/batch   0.8 | gcl 0.61160 | err 0.36571 | \n",
      "| Split 3 | 190/547 batches | lr 0.00010000 | sec/batch   0.8 | gcl 0.60279 | err 0.35724 | \n",
      "| Split 3 | 200/547 batches | lr 0.00010000 | sec/batch   0.8 | gcl 0.60384 | err 0.34411 | \n"
     ]
    },
    {
     "name": "stderr",
     "output_type": "stream",
     "text": [
      "100%|██████████| 546/546 [03:50<00:00,  2.36it/s]\n"
     ]
    },
    {
     "name": "stdout",
     "output_type": "stream",
     "text": [
      "-----------------------------------------------------------------------------------------\n",
      "valid accuracy: 0.7045 | valid auc: 0.7750 | valid loss: 0.5551 | valid err: 0.2955\n",
      "-----------------------------------------------------------------------------------------\n",
      "| Split 3 | 210/547 batches | lr 0.00010000 | sec/batch   0.8 | gcl 0.60488 | err 0.35561 | \n",
      "| Split 3 | 220/547 batches | lr 0.00010000 | sec/batch   0.8 | gcl 0.61857 | err 0.37070 | \n",
      "| Split 3 | 230/547 batches | lr 0.00010000 | sec/batch   0.8 | gcl 0.58991 | err 0.33973 | \n",
      "| Split 3 | 240/547 batches | lr 0.00010000 | sec/batch   0.8 | gcl 0.61462 | err 0.36607 | \n",
      "| Split 3 | 250/547 batches | lr 0.00010000 | sec/batch   0.8 | gcl 0.61946 | err 0.36658 | \n",
      "| Split 3 | 260/547 batches | lr 0.00010000 | sec/batch   0.8 | gcl 0.62652 | err 0.37246 | \n",
      "| Split 3 | 270/547 batches | lr 0.00010000 | sec/batch   0.8 | gcl 0.59778 | err 0.34782 | \n",
      "| Split 3 | 280/547 batches | lr 0.00010000 | sec/batch   0.8 | gcl 0.60813 | err 0.35500 | \n",
      "| Split 3 | 290/547 batches | lr 0.00010000 | sec/batch   0.8 | gcl 0.60018 | err 0.35256 | \n",
      "| Split 3 | 300/547 batches | lr 0.00010000 | sec/batch   0.8 | gcl 0.60260 | err 0.35032 | \n"
     ]
    },
    {
     "name": "stderr",
     "output_type": "stream",
     "text": [
      "100%|██████████| 546/546 [03:51<00:00,  2.36it/s]\n"
     ]
    },
    {
     "name": "stdout",
     "output_type": "stream",
     "text": [
      "-----------------------------------------------------------------------------------------\n",
      "valid accuracy: 0.7191 | valid auc: 0.7706 | valid loss: 0.5522 | valid err: 0.2809\n",
      "-----------------------------------------------------------------------------------------\n",
      "| Split 3 | 310/547 batches | lr 0.00010000 | sec/batch   0.9 | gcl 0.59957 | err 0.35135 | \n",
      "| Split 3 | 320/547 batches | lr 0.00010000 | sec/batch   0.8 | gcl 0.60300 | err 0.35650 | \n",
      "| Split 3 | 330/547 batches | lr 0.00010000 | sec/batch   0.8 | gcl 0.59312 | err 0.34636 | \n",
      "| Split 3 | 340/547 batches | lr 0.00010000 | sec/batch   0.8 | gcl 0.58996 | err 0.33946 | \n",
      "| Split 3 | 350/547 batches | lr 0.00010000 | sec/batch   0.8 | gcl 0.58922 | err 0.34269 | \n",
      "| Split 3 | 360/547 batches | lr 0.00010000 | sec/batch   0.8 | gcl 0.59814 | err 0.34775 | \n",
      "| Split 3 | 370/547 batches | lr 0.00010000 | sec/batch   0.8 | gcl 0.59593 | err 0.34777 | \n",
      "| Split 3 | 380/547 batches | lr 0.00010000 | sec/batch   0.8 | gcl 0.58163 | err 0.33712 | \n",
      "| Split 3 | 390/547 batches | lr 0.00010000 | sec/batch   0.8 | gcl 0.59109 | err 0.35214 | \n",
      "| Split 3 | 400/547 batches | lr 0.00010000 | sec/batch   0.8 | gcl 0.57621 | err 0.34348 | \n"
     ]
    },
    {
     "name": "stderr",
     "output_type": "stream",
     "text": [
      "100%|██████████| 546/546 [03:50<00:00,  2.36it/s]\n"
     ]
    },
    {
     "name": "stdout",
     "output_type": "stream",
     "text": [
      "-----------------------------------------------------------------------------------------\n",
      "valid accuracy: 0.6858 | valid auc: 0.7720 | valid loss: 0.5530 | valid err: 0.3142\n",
      "-----------------------------------------------------------------------------------------\n",
      "| Split 3 | 410/547 batches | lr 0.00010000 | sec/batch   0.8 | gcl 0.57595 | err 0.32891 | \n",
      "| Split 3 | 420/547 batches | lr 0.00010000 | sec/batch   0.8 | gcl 0.58224 | err 0.34235 | \n",
      "| Split 3 | 430/547 batches | lr 0.00010000 | sec/batch   0.8 | gcl 0.57553 | err 0.33301 | \n",
      "| Split 3 | 440/547 batches | lr 0.00010000 | sec/batch   0.8 | gcl 0.57288 | err 0.32848 | \n",
      "| Split 3 | 450/547 batches | lr 0.00010000 | sec/batch   0.8 | gcl 0.56100 | err 0.31940 | \n",
      "| Split 3 | 460/547 batches | lr 0.00010000 | sec/batch   0.8 | gcl 0.57648 | err 0.33373 | \n",
      "| Split 3 | 470/547 batches | lr 0.00010000 | sec/batch   0.8 | gcl 0.56413 | err 0.32237 | \n",
      "| Split 3 | 480/547 batches | lr 0.00010000 | sec/batch   0.8 | gcl 0.56506 | err 0.32587 | \n",
      "| Split 3 | 490/547 batches | lr 0.00010000 | sec/batch   0.8 | gcl 0.57116 | err 0.32976 | \n",
      "| Split 3 | 500/547 batches | lr 0.00010000 | sec/batch   0.8 | gcl 0.56272 | err 0.32466 | \n"
     ]
    },
    {
     "name": "stderr",
     "output_type": "stream",
     "text": [
      "100%|██████████| 546/546 [03:50<00:00,  2.37it/s]\n"
     ]
    },
    {
     "name": "stdout",
     "output_type": "stream",
     "text": [
      "-----------------------------------------------------------------------------------------\n",
      "valid accuracy: 0.6767 | valid auc: 0.7380 | valid loss: 0.5898 | valid err: 0.3233\n",
      "-----------------------------------------------------------------------------------------\n",
      "Cross-validate on dataset human_myocardial_infarction slide ACH005 - split 4\n",
      "Total Pre freeze Params 101127486\n",
      "Total Post freeze Params 1185794\n",
      "| Split 4 |  10/547 batches | lr 0.00010000 | sec/batch   0.8 | gcl 0.69158 | err 0.39467 | \n",
      "| Split 4 |  20/547 batches | lr 0.00010000 | sec/batch   0.8 | gcl 0.67217 | err 0.38502 | \n",
      "| Split 4 |  30/547 batches | lr 0.00010000 | sec/batch   0.8 | gcl 0.63825 | err 0.36495 | \n",
      "| Split 4 |  40/547 batches | lr 0.00010000 | sec/batch   0.8 | gcl 0.62316 | err 0.36925 | \n",
      "| Split 4 |  50/547 batches | lr 0.00010000 | sec/batch   0.8 | gcl 0.62908 | err 0.37184 | \n",
      "| Split 4 |  60/547 batches | lr 0.00010000 | sec/batch   0.8 | gcl 0.64649 | err 0.39382 | \n",
      "| Split 4 |  70/547 batches | lr 0.00010000 | sec/batch   0.8 | gcl 0.62542 | err 0.36428 | \n",
      "| Split 4 |  80/547 batches | lr 0.00010000 | sec/batch   0.8 | gcl 0.62326 | err 0.36478 | \n",
      "| Split 4 |  90/547 batches | lr 0.00010000 | sec/batch   0.8 | gcl 0.62654 | err 0.36324 | \n",
      "| Split 4 | 100/547 batches | lr 0.00010000 | sec/batch   0.8 | gcl 0.61403 | err 0.35511 | \n"
     ]
    },
    {
     "name": "stderr",
     "output_type": "stream",
     "text": [
      "100%|██████████| 545/545 [03:50<00:00,  2.36it/s]\n"
     ]
    },
    {
     "name": "stdout",
     "output_type": "stream",
     "text": [
      "-----------------------------------------------------------------------------------------\n",
      "valid accuracy: 0.6411 | valid auc: 0.6924 | valid loss: 0.6179 | valid err: 0.3589\n",
      "-----------------------------------------------------------------------------------------\n",
      "| Split 4 | 110/547 batches | lr 0.00010000 | sec/batch   0.8 | gcl 0.60465 | err 0.34642 | \n",
      "| Split 4 | 120/547 batches | lr 0.00010000 | sec/batch   0.9 | gcl 0.60392 | err 0.35460 | \n",
      "| Split 4 | 130/547 batches | lr 0.00010000 | sec/batch   0.8 | gcl 0.59888 | err 0.33789 | \n",
      "| Split 4 | 140/547 batches | lr 0.00010000 | sec/batch   0.8 | gcl 0.60065 | err 0.34050 | \n",
      "| Split 4 | 150/547 batches | lr 0.00010000 | sec/batch   0.8 | gcl 0.59727 | err 0.33783 | \n",
      "| Split 4 | 160/547 batches | lr 0.00010000 | sec/batch   0.8 | gcl 0.60767 | err 0.34672 | \n",
      "| Split 4 | 170/547 batches | lr 0.00010000 | sec/batch   0.8 | gcl 0.59148 | err 0.33511 | \n",
      "| Split 4 | 180/547 batches | lr 0.00010000 | sec/batch   0.8 | gcl 0.59730 | err 0.34984 | \n",
      "| Split 4 | 190/547 batches | lr 0.00010000 | sec/batch   0.8 | gcl 0.59177 | err 0.34436 | \n",
      "| Split 4 | 200/547 batches | lr 0.00010000 | sec/batch   0.8 | gcl 0.59335 | err 0.33883 | \n"
     ]
    },
    {
     "name": "stderr",
     "output_type": "stream",
     "text": [
      "100%|██████████| 545/545 [03:50<00:00,  2.36it/s]\n"
     ]
    },
    {
     "name": "stdout",
     "output_type": "stream",
     "text": [
      "-----------------------------------------------------------------------------------------\n",
      "valid accuracy: 0.6539 | valid auc: 0.6998 | valid loss: 0.6089 | valid err: 0.3461\n",
      "-----------------------------------------------------------------------------------------\n",
      "| Split 4 | 210/547 batches | lr 0.00010000 | sec/batch   0.8 | gcl 0.58292 | err 0.32891 | \n",
      "| Split 4 | 220/547 batches | lr 0.00010000 | sec/batch   0.9 | gcl 0.60881 | err 0.36193 | \n",
      "| Split 4 | 230/547 batches | lr 0.00010000 | sec/batch   0.8 | gcl 0.58754 | err 0.32973 | \n",
      "| Split 4 | 240/547 batches | lr 0.00010000 | sec/batch   0.8 | gcl 0.61903 | err 0.35695 | \n",
      "| Split 4 | 250/547 batches | lr 0.00010000 | sec/batch   0.8 | gcl 0.60415 | err 0.34941 | \n",
      "| Split 4 | 260/547 batches | lr 0.00010000 | sec/batch   0.8 | gcl 0.60595 | err 0.34646 | \n",
      "| Split 4 | 270/547 batches | lr 0.00010000 | sec/batch   0.8 | gcl 0.58737 | err 0.33865 | \n",
      "| Split 4 | 280/547 batches | lr 0.00010000 | sec/batch   0.8 | gcl 0.59398 | err 0.33718 | \n",
      "| Split 4 | 290/547 batches | lr 0.00010000 | sec/batch   0.8 | gcl 0.59201 | err 0.33937 | \n",
      "| Split 4 | 300/547 batches | lr 0.00010000 | sec/batch   0.8 | gcl 0.61174 | err 0.36066 | \n"
     ]
    },
    {
     "name": "stderr",
     "output_type": "stream",
     "text": [
      "100%|██████████| 545/545 [03:50<00:00,  2.36it/s]\n"
     ]
    },
    {
     "name": "stdout",
     "output_type": "stream",
     "text": [
      "-----------------------------------------------------------------------------------------\n",
      "valid accuracy: 0.6525 | valid auc: 0.7025 | valid loss: 0.6015 | valid err: 0.3475\n",
      "-----------------------------------------------------------------------------------------\n",
      "| Split 4 | 310/547 batches | lr 0.00010000 | sec/batch   0.9 | gcl 0.58958 | err 0.34236 | \n",
      "| Split 4 | 320/547 batches | lr 0.00010000 | sec/batch   0.8 | gcl 0.57868 | err 0.32912 | \n",
      "| Split 4 | 330/547 batches | lr 0.00010000 | sec/batch   0.8 | gcl 0.58253 | err 0.33626 | \n",
      "| Split 4 | 340/547 batches | lr 0.00010000 | sec/batch   0.8 | gcl 0.58376 | err 0.33339 | \n",
      "| Split 4 | 350/547 batches | lr 0.00010000 | sec/batch   0.8 | gcl 0.58538 | err 0.32812 | \n",
      "| Split 4 | 360/547 batches | lr 0.00010000 | sec/batch   0.8 | gcl 0.58152 | err 0.33205 | \n",
      "| Split 4 | 370/547 batches | lr 0.00010000 | sec/batch   0.8 | gcl 0.58873 | err 0.34178 | \n",
      "| Split 4 | 380/547 batches | lr 0.00010000 | sec/batch   0.8 | gcl 0.58394 | err 0.33587 | \n",
      "| Split 4 | 390/547 batches | lr 0.00010000 | sec/batch   0.8 | gcl 0.58346 | err 0.33958 | \n",
      "| Split 4 | 400/547 batches | lr 0.00010000 | sec/batch   0.8 | gcl 0.56926 | err 0.32578 | \n"
     ]
    },
    {
     "name": "stderr",
     "output_type": "stream",
     "text": [
      "100%|██████████| 545/545 [03:50<00:00,  2.36it/s]\n"
     ]
    },
    {
     "name": "stdout",
     "output_type": "stream",
     "text": [
      "-----------------------------------------------------------------------------------------\n",
      "valid accuracy: 0.6614 | valid auc: 0.7085 | valid loss: 0.6068 | valid err: 0.3386\n",
      "-----------------------------------------------------------------------------------------\n",
      "| Split 4 | 410/547 batches | lr 0.00010000 | sec/batch   0.8 | gcl 0.56935 | err 0.32698 | \n",
      "| Split 4 | 420/547 batches | lr 0.00010000 | sec/batch   0.8 | gcl 0.57733 | err 0.33093 | \n",
      "| Split 4 | 430/547 batches | lr 0.00010000 | sec/batch   0.8 | gcl 0.55840 | err 0.30798 | \n",
      "| Split 4 | 440/547 batches | lr 0.00010000 | sec/batch   0.8 | gcl 0.55819 | err 0.30752 | \n",
      "| Split 4 | 450/547 batches | lr 0.00010000 | sec/batch   0.8 | gcl 0.57033 | err 0.31544 | \n",
      "| Split 4 | 460/547 batches | lr 0.00010000 | sec/batch   0.8 | gcl 0.56839 | err 0.31637 | \n",
      "| Split 4 | 470/547 batches | lr 0.00010000 | sec/batch   0.8 | gcl 0.57274 | err 0.32656 | \n",
      "| Split 4 | 480/547 batches | lr 0.00010000 | sec/batch   0.8 | gcl 0.56420 | err 0.32304 | \n",
      "| Split 4 | 490/547 batches | lr 0.00010000 | sec/batch   0.8 | gcl 0.56226 | err 0.31232 | \n",
      "| Split 4 | 500/547 batches | lr 0.00010000 | sec/batch   0.8 | gcl 0.56080 | err 0.31056 | \n"
     ]
    },
    {
     "name": "stderr",
     "output_type": "stream",
     "text": [
      "100%|██████████| 545/545 [03:50<00:00,  2.36it/s]\n"
     ]
    },
    {
     "name": "stdout",
     "output_type": "stream",
     "text": [
      "-----------------------------------------------------------------------------------------\n",
      "valid accuracy: 0.6613 | valid auc: 0.7137 | valid loss: 0.5953 | valid err: 0.3387\n",
      "-----------------------------------------------------------------------------------------\n",
      "Cross-validate on dataset human_myocardial_infarction slide ACH005 - split 5\n",
      "Total Pre freeze Params 101127486\n",
      "Total Post freeze Params 1185794\n",
      "| Split 5 |  10/547 batches | lr 0.00010000 | sec/batch   0.8 | gcl 0.62822 | err 0.35489 | \n",
      "| Split 5 |  20/547 batches | lr 0.00010000 | sec/batch   0.8 | gcl 0.61751 | err 0.35321 | \n",
      "| Split 5 |  30/547 batches | lr 0.00010000 | sec/batch   0.8 | gcl 0.58711 | err 0.34177 | \n",
      "| Split 5 |  40/547 batches | lr 0.00010000 | sec/batch   0.8 | gcl 0.57560 | err 0.32841 | \n",
      "| Split 5 |  50/547 batches | lr 0.00010000 | sec/batch   0.8 | gcl 0.57235 | err 0.33156 | \n",
      "| Split 5 |  60/547 batches | lr 0.00010000 | sec/batch   0.8 | gcl 0.59031 | err 0.35018 | \n",
      "| Split 5 |  70/547 batches | lr 0.00010000 | sec/batch   0.8 | gcl 0.58172 | err 0.33357 | \n",
      "| Split 5 |  80/547 batches | lr 0.00010000 | sec/batch   0.8 | gcl 0.57542 | err 0.32799 | \n",
      "| Split 5 |  90/547 batches | lr 0.00010000 | sec/batch   0.8 | gcl 0.57352 | err 0.33160 | \n",
      "| Split 5 | 100/547 batches | lr 0.00010000 | sec/batch   0.8 | gcl 0.56611 | err 0.32337 | \n"
     ]
    },
    {
     "name": "stderr",
     "output_type": "stream",
     "text": [
      "100%|██████████| 540/540 [03:48<00:00,  2.37it/s]\n"
     ]
    },
    {
     "name": "stdout",
     "output_type": "stream",
     "text": [
      "-----------------------------------------------------------------------------------------\n",
      "valid accuracy: 0.5347 | valid auc: 0.5320 | valid loss: 0.8483 | valid err: 0.4653\n",
      "-----------------------------------------------------------------------------------------\n",
      "| Split 5 | 110/547 batches | lr 0.00010000 | sec/batch   0.8 | gcl 0.56761 | err 0.32659 | \n",
      "| Split 5 | 120/547 batches | lr 0.00010000 | sec/batch   0.9 | gcl 0.57028 | err 0.32650 | \n",
      "| Split 5 | 130/547 batches | lr 0.00010000 | sec/batch   0.8 | gcl 0.55002 | err 0.31596 | \n",
      "| Split 5 | 140/547 batches | lr 0.00010000 | sec/batch   0.8 | gcl 0.55615 | err 0.31749 | \n",
      "| Split 5 | 150/547 batches | lr 0.00010000 | sec/batch   0.9 | gcl 0.58617 | err 0.34499 | \n",
      "| Split 5 | 160/547 batches | lr 0.00010000 | sec/batch   0.8 | gcl 0.56780 | err 0.33123 | \n",
      "| Split 5 | 170/547 batches | lr 0.00010000 | sec/batch   0.8 | gcl 0.54986 | err 0.31394 | \n",
      "| Split 5 | 180/547 batches | lr 0.00010000 | sec/batch   0.8 | gcl 0.55162 | err 0.32623 | \n",
      "| Split 5 | 190/547 batches | lr 0.00010000 | sec/batch   0.9 | gcl 0.54530 | err 0.32312 | \n",
      "| Split 5 | 200/547 batches | lr 0.00010000 | sec/batch   0.9 | gcl 0.56013 | err 0.32790 | \n"
     ]
    },
    {
     "name": "stderr",
     "output_type": "stream",
     "text": [
      "100%|██████████| 540/540 [03:48<00:00,  2.37it/s]\n"
     ]
    },
    {
     "name": "stdout",
     "output_type": "stream",
     "text": [
      "-----------------------------------------------------------------------------------------\n",
      "valid accuracy: 0.5549 | valid auc: 0.5467 | valid loss: 0.8583 | valid err: 0.4451\n",
      "-----------------------------------------------------------------------------------------\n",
      "| Split 5 | 210/547 batches | lr 0.00010000 | sec/batch   0.9 | gcl 0.56448 | err 0.32160 | \n",
      "| Split 5 | 220/547 batches | lr 0.00010000 | sec/batch   0.9 | gcl 0.58152 | err 0.34311 | \n",
      "| Split 5 | 230/547 batches | lr 0.00010000 | sec/batch   0.8 | gcl 0.54021 | err 0.31174 | \n",
      "| Split 5 | 240/547 batches | lr 0.00010000 | sec/batch   0.9 | gcl 0.56801 | err 0.32736 | \n",
      "| Split 5 | 250/547 batches | lr 0.00010000 | sec/batch   0.8 | gcl 0.55592 | err 0.32085 | \n",
      "| Split 5 | 260/547 batches | lr 0.00010000 | sec/batch   0.8 | gcl 0.56343 | err 0.32413 | \n",
      "| Split 5 | 270/547 batches | lr 0.00010000 | sec/batch   0.9 | gcl 0.55045 | err 0.32160 | \n",
      "| Split 5 | 280/547 batches | lr 0.00010000 | sec/batch   0.9 | gcl 0.56254 | err 0.32350 | \n",
      "| Split 5 | 290/547 batches | lr 0.00010000 | sec/batch   0.8 | gcl 0.56245 | err 0.32600 | \n",
      "| Split 5 | 300/547 batches | lr 0.00010000 | sec/batch   0.9 | gcl 0.55251 | err 0.32081 | \n"
     ]
    },
    {
     "name": "stderr",
     "output_type": "stream",
     "text": [
      "100%|██████████| 540/540 [03:48<00:00,  2.37it/s]\n"
     ]
    },
    {
     "name": "stdout",
     "output_type": "stream",
     "text": [
      "-----------------------------------------------------------------------------------------\n",
      "valid accuracy: 0.5555 | valid auc: 0.5422 | valid loss: 0.9003 | valid err: 0.4445\n",
      "-----------------------------------------------------------------------------------------\n",
      "| Split 5 | 310/547 batches | lr 0.00010000 | sec/batch   0.9 | gcl 0.54789 | err 0.31619 | \n",
      "| Split 5 | 320/547 batches | lr 0.00010000 | sec/batch   0.8 | gcl 0.53734 | err 0.30772 | \n",
      "| Split 5 | 330/547 batches | lr 0.00010000 | sec/batch   0.9 | gcl 0.55156 | err 0.31511 | \n",
      "| Split 5 | 340/547 batches | lr 0.00010000 | sec/batch   0.9 | gcl 0.54366 | err 0.31207 | \n",
      "| Split 5 | 350/547 batches | lr 0.00010000 | sec/batch   0.8 | gcl 0.53538 | err 0.30520 | \n",
      "| Split 5 | 360/547 batches | lr 0.00010000 | sec/batch   0.8 | gcl 0.54149 | err 0.30901 | \n",
      "| Split 5 | 370/547 batches | lr 0.00010000 | sec/batch   0.9 | gcl 0.53780 | err 0.31218 | \n",
      "| Split 5 | 380/547 batches | lr 0.00010000 | sec/batch   0.8 | gcl 0.52409 | err 0.29465 | \n",
      "| Split 5 | 390/547 batches | lr 0.00010000 | sec/batch   0.9 | gcl 0.54605 | err 0.31569 | \n",
      "| Split 5 | 400/547 batches | lr 0.00010000 | sec/batch   0.9 | gcl 0.54122 | err 0.31182 | \n"
     ]
    },
    {
     "name": "stderr",
     "output_type": "stream",
     "text": [
      "100%|██████████| 540/540 [03:48<00:00,  2.37it/s]\n"
     ]
    },
    {
     "name": "stdout",
     "output_type": "stream",
     "text": [
      "-----------------------------------------------------------------------------------------\n",
      "valid accuracy: 0.5581 | valid auc: 0.5422 | valid loss: 0.9838 | valid err: 0.4419\n",
      "-----------------------------------------------------------------------------------------\n",
      "| Split 5 | 410/547 batches | lr 0.00010000 | sec/batch   0.8 | gcl 0.54663 | err 0.31522 | \n",
      "| Split 5 | 420/547 batches | lr 0.00010000 | sec/batch   0.9 | gcl 0.54394 | err 0.31543 | \n",
      "| Split 5 | 430/547 batches | lr 0.00010000 | sec/batch   0.8 | gcl 0.53042 | err 0.30665 | \n",
      "| Split 5 | 440/547 batches | lr 0.00010000 | sec/batch   0.8 | gcl 0.51808 | err 0.28286 | \n",
      "| Split 5 | 450/547 batches | lr 0.00010000 | sec/batch   0.8 | gcl 0.52651 | err 0.30240 | \n",
      "| Split 5 | 460/547 batches | lr 0.00010000 | sec/batch   0.8 | gcl 0.52046 | err 0.29157 | \n",
      "| Split 5 | 470/547 batches | lr 0.00010000 | sec/batch   0.8 | gcl 0.51348 | err 0.29349 | \n",
      "| Split 5 | 480/547 batches | lr 0.00010000 | sec/batch   0.8 | gcl 0.52057 | err 0.29411 | \n",
      "| Split 5 | 490/547 batches | lr 0.00010000 | sec/batch   0.8 | gcl 0.53024 | err 0.30533 | \n",
      "| Split 5 | 500/547 batches | lr 0.00010000 | sec/batch   0.8 | gcl 0.54107 | err 0.30977 | \n"
     ]
    },
    {
     "name": "stderr",
     "output_type": "stream",
     "text": [
      "100%|██████████| 540/540 [03:48<00:00,  2.37it/s]\n"
     ]
    },
    {
     "name": "stdout",
     "output_type": "stream",
     "text": [
      "-----------------------------------------------------------------------------------------\n",
      "valid accuracy: 0.5094 | valid auc: 0.4965 | valid loss: 0.8560 | valid err: 0.4906\n",
      "-----------------------------------------------------------------------------------------\n"
     ]
    }
   ],
   "source": [
    "model_file = 'model_human_myocardial_infarction.ckpt' # None\n",
    "\n",
    "dataset = 'human_myocardial_infarction_dataset'\n",
    "slide = 'ACH005'\n",
    "data_path = f'data/{dataset}/'\n",
    "label_path = f'gene_lists/signaling_by_TGFB_family_members_REACTOME.csv' # n1_network_gene_labels.csv or n1_target_gene_labels.csv\n",
    "slideData = SlideData(data_path, slide, label_path, pad_value, pad_token)\n",
    "slideData.get_sc_data()\n",
    "slideData.prepare_data()\n",
    "\n",
    "batch_size = 24\n",
    "max_batch = 500\n",
    "\n",
    "n_splits = 5\n",
    "skf = StratifiedKFold(n_splits=n_splits, random_state=0, shuffle=True)\n",
    "mean_fpr = np.linspace(0, 1, 100)\n",
    "all_tpr = []\n",
    "all_roc_auc = []\n",
    "all_tpr_wt = []\n",
    "\n",
    "split = 0\n",
    "for train_index, valid_index in skf.split(slideData.gene_targets, slideData.gene_labels):\n",
    "    split += 1\n",
    "    print(f\"Cross-validate on dataset {dataset} slide {slide} - split {split}\")\n",
    "    train_data, valid_data = slideData.prepare_train_and_valid_data(train_index, valid_index)\n",
    "\n",
    "    model = initialize_model(model_file)\n",
    "    model = torch.nn.DataParallel(model, device_ids=[1, 3, 0])\n",
    "    device = torch.device(\"cuda:1\")\n",
    "    model.to(device)\n",
    "\n",
    "    best_model, interp_tpr, best_fpr, best_tpr = train_and_evaluate(model, train_data, valid_data, batch_size, max_batch)\n",
    "    all_tpr.append(interp_tpr)\n",
    "    all_roc_auc.append(auc(best_fpr, best_tpr))\n",
    "    all_tpr_wt.append(len(best_tpr))"
   ]
  },
  {
   "cell_type": "code",
   "execution_count": 13,
   "metadata": {},
   "outputs": [
    {
     "name": "stdout",
     "output_type": "stream",
     "text": [
      "[0.16550186997091157, 0.12498313518297652, 0.21694360944861493, 0.2675164735532685, 0.22505491184422846]\n",
      "Mean ROC AUC: 0.6764565172027164 +/- 0.08486559996421818\n"
     ]
    }
   ],
   "source": [
    "import math \n",
    "\n",
    "def get_cross_valid_metrics(all_tpr, all_roc_auc, all_tpr_wt):\n",
    "    wts = [count/sum(all_tpr_wt) for count in all_tpr_wt]\n",
    "    print(wts)\n",
    "    all_weighted_tpr = [a*b for a,b in zip(all_tpr, wts)]\n",
    "    mean_tpr = np.sum(all_weighted_tpr, axis=0)\n",
    "    mean_tpr[-1] = 1.0\n",
    "    all_weighted_roc_auc = [a*b for a,b in zip(all_roc_auc, wts)]\n",
    "    roc_auc = np.sum(all_weighted_roc_auc)\n",
    "    roc_auc_sd = math.sqrt(np.average((all_roc_auc-roc_auc)**2, weights=wts))\n",
    "    return mean_tpr, roc_auc, roc_auc_sd, wts\n",
    "\n",
    "mean_tpr, roc_auc, roc_auc_sd, wts = get_cross_valid_metrics(all_tpr, all_roc_auc, all_tpr_wt)\n",
    "\n",
    "print(f\"Mean ROC AUC: {roc_auc} +/- {roc_auc_sd}\")\n",
    "cv_results = {'roc_auc':roc_auc, 'roc_auc_sd':roc_auc_sd, 'mean_fpr':mean_fpr, 'mean_tpr':mean_tpr, 'all_roc_auc':all_roc_auc, 'wts':wts}\n",
    "pickle.dump(cv_results, open(f'roc_results/scf-ft_gcl_{slide}_TGFB-pathway.pkl', 'wb'))"
   ]
  },
  {
   "cell_type": "code",
   "execution_count": 14,
   "metadata": {},
   "outputs": [
    {
     "data": {
      "image/png": "[encoded data removed]",
      "text/plain": [
       "<Figure size 640x480 with 1 Axes>"
      ]
     },
     "metadata": {},
     "output_type": "display_data"
    }
   ],
   "source": [
    "import matplotlib.pyplot as plt\n",
    "\n",
    "def plot_ROC(bundled_data, title):\n",
    "    plt.figure()\n",
    "    lw = 2\n",
    "    for roc_auc, roc_auc_sd, mean_fpr, mean_tpr, sample, color in bundled_data:\n",
    "        plt.plot(mean_fpr, mean_tpr, color=color,\n",
    "                 lw=lw, label=\"{0} (AUC {1:0.2f} $\\pm$ {2:0.2f})\".format(sample, roc_auc, roc_auc_sd))\n",
    "    plt.plot([0, 1], [0, 1], color='black', lw=lw, linestyle='--')\n",
    "    plt.xlim([0.0, 1.0])\n",
    "    plt.ylim([0.0, 1.05])\n",
    "    plt.xlabel('False Positive Rate')\n",
    "    plt.ylabel('True Positive Rate')\n",
    "    plt.title(title)\n",
    "    plt.legend(loc=\"lower right\")\n",
    "    plt.show()\n",
    "\n",
    "bundled_data = [(roc_auc, roc_auc_sd, mean_fpr, mean_tpr, \"scf-ft\", \"blue\")]\n",
    "\n",
    "plot_ROC(bundled_data, 'Gene classification')"
   ]
  }
 ],
 "metadata": {
  "kernelspec": {
   "display_name": "Python 3",
   "language": "python",
   "name": "python3"
  },
  "language_info": {
   "codemirror_mode": {
    "name": "ipython",
    "version": 3
   },
   "file_extension": ".py",
   "mimetype": "text/x-python",
   "name": "python",
   "nbconvert_exporter": "python",
   "pygments_lexer": "ipython3",
   "version": "3.11.5"
  }
 },
 "nbformat": 4,
 "nbformat_minor": 2
}
