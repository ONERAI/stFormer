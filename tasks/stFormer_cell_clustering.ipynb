{
 "cells": [
  {
   "cell_type": "code",
   "execution_count": 1,
   "metadata": {},
   "outputs": [],
   "source": [
    "import os\n",
    "os.environ['PYTORCH_CUDA_ALLOC_CONF'] = 'expandable_segments:True'\n",
    "from typing import Dict\n",
    "import warnings\n",
    "warnings.filterwarnings('ignore')\n",
    "from tqdm import tqdm\n",
    "import scanpy as sc\n",
    "import numpy as np\n",
    "import pandas as pd\n",
    "import torch\n",
    "from torch.utils.data import Dataset, DataLoader\n",
    "from torch import nn\n",
    "\n",
    "from stformer import logger\n",
    "from stformer.tokenizer import GeneVocab\n",
    "from stformer.tokenizer import tokenize_and_pad_batch"
   ]
  },
  {
   "cell_type": "code",
   "execution_count": 2,
   "metadata": {},
   "outputs": [],
   "source": [
    "class SlideData():\n",
    "    def __init__(self, data_path, slide, vocab, pad_value, pad_token):\n",
    "        self.data_path = data_path\n",
    "        self.slide = slide\n",
    "        self.vocab = vocab\n",
    "        self.pad_value = pad_value\n",
    "        self.pad_token = pad_token\n",
    "        self.load_data()\n",
    "    \n",
    "    def load_data(self):\n",
    "        adata = sc.read_h5ad(f'{self.data_path}/{self.slide}_Visium_deconv.h5ad')\n",
    "\n",
    "        scfoundation_gene_df = pd.read_csv(f'{tokenizer_dir}/scfoundation_gene_df.csv')\n",
    "        scfoundation_gene_df.set_index('gene_ids', inplace=True)\n",
    "        total_gene_num = adata.shape[1]\n",
    "        adata = adata[:, adata.var_names.isin(scfoundation_gene_df.index)]\n",
    "        adata.var['gene_name'] = scfoundation_gene_df.loc[adata.var_names, 'gene_symbols'].values\n",
    "        seleted_gene_num = adata.shape[1]\n",
    "        genes = adata.var[\"gene_name\"].tolist()\n",
    "        gene_ids = np.array(self.vocab(genes), dtype=int)\n",
    "\n",
    "        logger.info(\n",
    "            f\"match {seleted_gene_num}/{total_gene_num} genes \"\n",
    "            f\"in vocabulary of size 19264.\"\n",
    "        )\n",
    "\n",
    "        ligand_database = pd.read_csv(tokenizer_dir+'ligand_database.csv', header=0, index_col=0)\n",
    "        ligand_symbol = ligand_database[ligand_database.sum(1)>1].index.values\n",
    "        ligand_ids = self.vocab(ligand_symbol.tolist())\n",
    "        adata = adata[(adata[:,adata.var['gene_name'].isin(ligand_symbol)].X.sum(1)>0).A.T[0],:]\n",
    "            \n",
    "        celltype_proportion = adata.obsm['q05_cell_abundance_w_sf']\n",
    "        celltype_proportion.rename(columns=lambda x: x[23:], inplace=True)\n",
    "        celltype_proportion = celltype_proportion.div(celltype_proportion.sum(axis=1), axis=0)\n",
    "        celltype_proportion[celltype_proportion < 0.05] = 0\n",
    "        celltype_proportion = celltype_proportion.div(celltype_proportion.sum(axis=1), axis=0)\n",
    "\n",
    "        for celltype in adata.layers.keys():\n",
    "            adata.X = adata.layers[celltype]\n",
    "            sc.pp.normalize_total(adata, target_sum=1e4)\n",
    "            sc.pp.log1p(adata)\n",
    "            adata.uns.pop('log1p')\n",
    "            adata.layers[celltype] = adata.X\n",
    "\n",
    "        self.adata = adata\n",
    "        self.celltype_proportion = celltype_proportion\n",
    "        self.gene_ids = gene_ids\n",
    "        self.ligand_ids = ligand_ids\n",
    "    \n",
    "    def get_niche_samples(self):\n",
    "        samples_expression = []\n",
    "        samples_ctprop = []\n",
    "        celltypes_labels = []\n",
    "        for i in range(self.adata.shape[0]):\n",
    "            ct_prop = self.celltype_proportion.iloc[i][self.celltype_proportion.iloc[i]>0]\n",
    "\n",
    "            niche_counts = np.concatenate([self.adata.layers[ct][i].A for ct in ct_prop.index])\n",
    "            niche_counts[:,~np.isin(self.gene_ids, self.ligand_ids)] = 0\n",
    "\n",
    "            niche_ctprop = ct_prop.values\n",
    "\n",
    "            for ct in ct_prop.index:\n",
    "                counts = self.adata.layers[ct][i].A\n",
    "                samples_expression.append(np.concatenate([counts, niche_counts],axis=0))\n",
    "                samples_ctprop.append(niche_ctprop)\n",
    "                celltypes_labels.append(ct)\n",
    "\n",
    "        celltype_ids = pd.Series(celltypes_labels).astype(\"category\").cat.codes.values\n",
    "\n",
    "        self.expression = samples_expression\n",
    "        self.ctprop = samples_ctprop\n",
    "        self.celltypes = celltypes_labels\n",
    "        self.celltype_ids = celltype_ids\n",
    "\n",
    "    def tokenize_data(self):\n",
    "        max_seq_len = np.max(np.count_nonzero(self.adata.X.A, axis=1))+2\n",
    "        max_niche_cell_num = (self.celltype_proportion>0).sum(1).max()\n",
    "        self.max_seq_len = max_seq_len\n",
    "        self.max_niche_cell_num = max_niche_cell_num\n",
    "\n",
    "        self.tokenized_data = tokenize_and_pad_batch(\n",
    "            self.expression,\n",
    "            self.ctprop,\n",
    "            self.gene_ids,\n",
    "            max_len = max_seq_len,\n",
    "            max_niche_cell_num = max_niche_cell_num,\n",
    "            vocab = self.vocab,\n",
    "            pad_token = self.pad_token,\n",
    "            pad_value = self.pad_value,\n",
    "            append_cls = False,  # append <cls> token at the beginning\n",
    "            include_zero_gene = False,\n",
    "        )\n",
    "     \n",
    "        logger.info(\n",
    "            f\"Number of samples: {self.tokenized_data['center_genes'].shape[0]}, \"\n",
    "            f\"\\n\\t feature length of center cell: {self.tokenized_data['center_genes'].shape[1]}\"\n",
    "            f\"\\n\\t feature length of niche cells: {self.tokenized_data['niche_genes'].shape[1]}\"\n",
    "        )\n",
    "\n",
    "    def prepare_data(self):\n",
    "        self.data_pt = {\n",
    "            \"center_gene_ids\": self.tokenized_data[\"center_genes\"],\n",
    "            \"input_center_values\": self.tokenized_data[\"center_values\"],\n",
    "            \"target_center_values\": self.tokenized_data[\"center_values\"],\n",
    "            \"niche_gene_ids\": self.tokenized_data[\"niche_genes\"],\n",
    "            \"input_niche_values\": self.tokenized_data[\"niche_values\"],\n",
    "            \"niche_feature_lens\": self.tokenized_data[\"niche_feature_lens\"],\n",
    "            \"cross_attn_bias\": self.tokenized_data[\"cross_attn_bias\"],\n",
    "        }\n",
    "    \n",
    "    def prepare_dataloader(self, batch_size):\n",
    "        data_loader = DataLoader(\n",
    "            dataset=SeqDataset(self.data_pt),\n",
    "            batch_size=batch_size,\n",
    "            shuffle=False,\n",
    "            drop_last=False,\n",
    "            num_workers=min(len(os.sched_getaffinity(0)), batch_size // 2),\n",
    "            pin_memory=True,\n",
    "        )\n",
    "        return data_loader\n",
    "\n",
    "class SeqDataset(Dataset):\n",
    "    def __init__(self, data: Dict[str, torch.Tensor]):\n",
    "        self.data = data\n",
    "\n",
    "    def __len__(self):\n",
    "        return self.data[\"center_gene_ids\"].shape[0]\n",
    "\n",
    "    def __getitem__(self, idx):\n",
    "        return {k: v[idx] for k, v in self.data.items()}"
   ]
  },
  {
   "cell_type": "code",
   "execution_count": 3,
   "metadata": {},
   "outputs": [],
   "source": [
    "def evaluate(model: nn.Module, loader: DataLoader) -> float:\n",
    "    \"\"\"\n",
    "    Evaluate the model on the evaluation data.\n",
    "    \"\"\"\n",
    "    model.eval()\n",
    "    cell_embeddings = []\n",
    "\n",
    "    with torch.no_grad():\n",
    "        for batch_data in tqdm(loader):\n",
    "            niche_feature_lens = batch_data[\"niche_feature_lens\"].to(device)\n",
    "            if niche_feature_lens.size(0)<7:\n",
    "                continue\n",
    "            center_gene_ids = batch_data[\"center_gene_ids\"].to(device)\n",
    "            input_center_values = batch_data[\"input_center_values\"].to(device)\n",
    "            niche_gene_ids = batch_data[\"niche_gene_ids\"].to(device)\n",
    "            input_niche_values = batch_data[\"input_niche_values\"].to(device)\n",
    "            cross_attn_bias = batch_data[\"cross_attn_bias\"].to(device)\n",
    "\n",
    "            encoder_src_key_padding_mask = niche_gene_ids.eq(vocab[pad_token])\n",
    "            decoder_src_key_padding_mask = center_gene_ids.eq(vocab[pad_token])\n",
    "\n",
    "            with torch.cuda.amp.autocast(enabled=amp):\n",
    "                output_dict = model(\n",
    "                        niche_gene_ids,\n",
    "                        input_niche_values,\n",
    "                        encoder_src_key_padding_mask,\n",
    "                        center_gene_ids,\n",
    "                        input_center_values,\n",
    "                        decoder_src_key_padding_mask,\n",
    "                        cross_attn_bias,\n",
    "                    )\n",
    "                cell_embeddings.append(output_dict['cell_emb'].to('cpu'))\n",
    "    \n",
    "    return(torch.cat(cell_embeddings))"
   ]
  },
  {
   "cell_type": "code",
   "execution_count": null,
   "metadata": {},
   "outputs": [],
   "source": [
    "model = torch.load(f'../pretraining/model.ckpt', map_location='cpu')"
   ]
  },
  {
   "cell_type": "code",
   "execution_count": 5,
   "metadata": {},
   "outputs": [
    {
     "data": {
      "text/plain": [
       "DataParallel(\n",
       "  (module): TransformerModel(\n",
       "    (scfoundation_token_emb1): AutoDiscretizationEmbedding2(\n",
       "      (mlp): Linear(in_features=1, out_features=100, bias=True)\n",
       "      (mlp2): Linear(in_features=100, out_features=100, bias=True)\n",
       "      (LeakyReLU): LeakyReLU(negative_slope=0.1)\n",
       "      (Softmax): Softmax(dim=-1)\n",
       "      (emb): Embedding(100, 768)\n",
       "      (emb_mask): Embedding(1, 768)\n",
       "      (emb_pad): Embedding(1, 768)\n",
       "    )\n",
       "    (scfoundation_token_emb2): AutoDiscretizationEmbedding2(\n",
       "      (mlp): Linear(in_features=1, out_features=100, bias=True)\n",
       "      (mlp2): Linear(in_features=100, out_features=100, bias=True)\n",
       "      (LeakyReLU): LeakyReLU(negative_slope=0.1)\n",
       "      (Softmax): Softmax(dim=-1)\n",
       "      (emb): Embedding(100, 768)\n",
       "      (emb_mask): Embedding(1, 768)\n",
       "      (emb_pad): Embedding(1, 768)\n",
       "    )\n",
       "    (scfoundation_pos_emb1): Embedding(19267, 768)\n",
       "    (scfoundation_pos_emb2): Embedding(19267, 768)\n",
       "    (transformer_decoder): TransformerDecoder(\n",
       "      (layers): ModuleList(\n",
       "        (0-5): 6 x FlashTransformerDecoderLayer(\n",
       "          (self_attn): FlashMHA(\n",
       "            (Wqkv): Linear(in_features=768, out_features=2304, bias=True)\n",
       "            (attn): FlashAttention()\n",
       "            (out_proj): Linear(in_features=768, out_features=768, bias=True)\n",
       "          )\n",
       "          (cross_attn): FlashMHA(\n",
       "            (Wq): Linear(in_features=768, out_features=768, bias=True)\n",
       "            (Wkv): Linear(in_features=768, out_features=1536, bias=True)\n",
       "            (attn): CrossAttention(\n",
       "              (drop): Dropout(p=0.1, inplace=False)\n",
       "            )\n",
       "            (out_proj): Linear(in_features=768, out_features=768, bias=True)\n",
       "          )\n",
       "          (linear1): Linear(in_features=768, out_features=3072, bias=True)\n",
       "          (dropout): Dropout(p=0.1, inplace=False)\n",
       "          (linear2): Linear(in_features=3072, out_features=768, bias=True)\n",
       "          (norm1): LayerNorm((768,), eps=1e-05, elementwise_affine=True)\n",
       "          (norm2): LayerNorm((768,), eps=1e-05, elementwise_affine=True)\n",
       "          (norm3): LayerNorm((768,), eps=1e-05, elementwise_affine=True)\n",
       "          (dropout1): Dropout(p=0.1, inplace=False)\n",
       "          (dropout2): Dropout(p=0.1, inplace=False)\n",
       "          (dropout3): Dropout(p=0.1, inplace=False)\n",
       "        )\n",
       "      )\n",
       "    )\n",
       "    (decoder): ExprDecoder(\n",
       "      (fc): Sequential(\n",
       "        (0): Linear(in_features=768, out_features=768, bias=True)\n",
       "        (1): LeakyReLU(negative_slope=0.01)\n",
       "        (2): Linear(in_features=768, out_features=768, bias=True)\n",
       "        (3): LeakyReLU(negative_slope=0.01)\n",
       "        (4): Linear(in_features=768, out_features=1, bias=True)\n",
       "      )\n",
       "    )\n",
       "  )\n",
       ")"
      ]
     },
     "execution_count": 5,
     "metadata": {},
     "output_type": "execute_result"
    }
   ],
   "source": [
    "device = torch.device(\"cuda:2\")\n",
    "\n",
    "model = nn.DataParallel(model, device_ids = [2, 1, 0])\n",
    "model.to(device)"
   ]
  },
  {
   "cell_type": "code",
   "execution_count": null,
   "metadata": {},
   "outputs": [],
   "source": [
    "pad_token = \"<pad>\"\n",
    "pad_value = 103\n",
    "\n",
    "tokenizer_dir = '../stformer/tokenizer/'\n",
    "vocab_file = tokenizer_dir + \"scfoundation_gene_vocab.json\"\n",
    "vocab = GeneVocab.from_file(vocab_file)\n",
    "vocab.append_token(pad_token)\n",
    "vocab.set_default_index(vocab[pad_token])"
   ]
  },
  {
   "cell_type": "code",
   "execution_count": null,
   "metadata": {},
   "outputs": [
    {
     "name": "stdout",
     "output_type": "stream",
     "text": [
      "stFormer - INFO - match 10635/11502 genes in vocabulary of size 19264.\n",
      "stFormer - INFO - Number of samples: 15705, \n",
      "\t feature length of center cell: 5723\n",
      "\t feature length of niche cells: 1505\n"
     ]
    }
   ],
   "source": [
    "dataset = 'human_myocardial_infarction_dataset'\n",
    "data_path = f'../data/{dataset}/'\n",
    "slide = '10X0020'\n",
    "batch_size = 48\n",
    "amp = True\n",
    "\n",
    "slideData = SlideData(data_path, slide, vocab, pad_value, pad_token)\n",
    "slideData.get_niche_samples()\n",
    "slideData.tokenize_data()\n",
    "slideData.prepare_data()\n",
    "data_loader = slideData.prepare_dataloader(batch_size)"
   ]
  },
  {
   "cell_type": "code",
   "execution_count": 8,
   "metadata": {},
   "outputs": [
    {
     "name": "stderr",
     "output_type": "stream",
     "text": [
      "100%|██████████| 328/328 [08:33<00:00,  1.57s/it]\n"
     ]
    }
   ],
   "source": [
    "cell_embeddings = evaluate(model,data_loader)"
   ]
  },
  {
   "cell_type": "code",
   "execution_count": 9,
   "metadata": {},
   "outputs": [
    {
     "data": {
      "text/plain": [
       "AnnData object with n_obs × n_vars = 15705 × 10635\n",
       "    obs: 'celltype'\n",
       "    obsm: 'cell_embeddings'"
      ]
     },
     "execution_count": 9,
     "metadata": {},
     "output_type": "execute_result"
    }
   ],
   "source": [
    "import anndata\n",
    "\n",
    "adata = anndata.AnnData(obs=pd.DataFrame(index=range(cell_embeddings.size(0))), var=pd.DataFrame(index=slideData.adata.var['gene_name'].values), uns=None, obsm=None, varm=None, layers=None, raw=None)\n",
    "adata.obsm['cell_embeddings'] = cell_embeddings.numpy()\n",
    "adata.obs['celltype'] = slideData.celltypes[:cell_embeddings.size(0)]\n",
    "adata.X = np.concatenate([[s[0]] for s in slideData.expression[:cell_embeddings.size(0)]], axis=0)\n",
    "adata"
   ]
  },
  {
   "cell_type": "code",
   "execution_count": 10,
   "metadata": {},
   "outputs": [
    {
     "name": "stdout",
     "output_type": "stream",
     "text": [
      "WARNING: saving figure to file figures/umap_stFormer_10X0020.pdf\n"
     ]
    },
    {
     "data": {
      "image/png": "[encoded data removed]",
      "text/plain": [
       "<Figure size 640x480 with 1 Axes>"
      ]
     },
     "metadata": {},
     "output_type": "display_data"
    }
   ],
   "source": [
    "import matplotlib.pyplot as plt\n",
    "\n",
    "sc.pp.neighbors(adata, use_rep='cell_embeddings')\n",
    "sc.tl.umap(adata)\n",
    "sc.pl.umap(adata,\n",
    "           title='',\n",
    "           frameon=False,\n",
    "           legend_loc='',\n",
    "           legend_fontsize='xx-small',\n",
    "           save=f\"_stFormer_{slide}.pdf\",\n",
    "           color='celltype')"
   ]
  },
  {
   "cell_type": "code",
   "execution_count": 11,
   "metadata": {},
   "outputs": [
    {
     "name": "stderr",
     "output_type": "stream",
     "text": [
      "/home/shcao/miniconda3/lib/python3.11/site-packages/seaborn/rcmod.py:82: DeprecationWarning: distutils Version classes are deprecated. Use packaging.version instead.\n",
      "  if LooseVersion(mpl.__version__) >= \"3.0\":\n",
      "/home/shcao/miniconda3/lib/python3.11/site-packages/setuptools/_distutils/version.py:345: DeprecationWarning: distutils Version classes are deprecated. Use packaging.version instead.\n",
      "  other = LooseVersion(other)\n",
      "/home/shcao/miniconda3/lib/python3.11/site-packages/seaborn/cm.py:1582: MatplotlibDeprecationWarning: The register_cmap function was deprecated in Matplotlib 3.7 and will be removed two minor releases later. Use ``matplotlib.colormaps.register(name)`` instead.\n",
      "  mpl_cm.register_cmap(_name, _cmap)\n",
      "/home/shcao/miniconda3/lib/python3.11/site-packages/seaborn/cm.py:1583: MatplotlibDeprecationWarning: The register_cmap function was deprecated in Matplotlib 3.7 and will be removed two minor releases later. Use ``matplotlib.colormaps.register(name)`` instead.\n",
      "  mpl_cm.register_cmap(_name + \"_r\", _cmap_r)\n",
      "/home/shcao/miniconda3/lib/python3.11/site-packages/seaborn/rcmod.py:400: DeprecationWarning: distutils Version classes are deprecated. Use packaging.version instead.\n",
      "  if LooseVersion(mpl.__version__) >= \"3.0\":\n",
      "/home/shcao/miniconda3/lib/python3.11/site-packages/setuptools/_distutils/version.py:345: DeprecationWarning: distutils Version classes are deprecated. Use packaging.version instead.\n",
      "  other = LooseVersion(other)\n",
      "/home/shcao/miniconda3/lib/python3.11/site-packages/scib/metrics/metrics.py:293: DeprecationWarning: Call to deprecated function (or staticmethod) opt_louvain.\n",
      "  res_max, nmi_max, nmi_all = opt_louvain(\n"
     ]
    },
    {
     "name": "stdout",
     "output_type": "stream",
     "text": [
      "NMI...\n",
      "ARI...\n",
      "Silhouette score...\n"
     ]
    }
   ],
   "source": [
    "import scib\n",
    "\n",
    "adata.obs['batch'] = [1]*adata.shape[0]\n",
    "\n",
    "results = scib.metrics.metrics(\n",
    "        adata,\n",
    "        adata_int=adata,\n",
    "        label_key='celltype',\n",
    "        batch_key='batch',\n",
    "        embed=\"cell_embeddings\",\n",
    "        silhouette_=True,\n",
    "        nmi_=True,  # use the clustering, bias to the best matching\n",
    "        ari_=True,  # use the clustering, bias to the best matching\n",
    "    )\n",
    "\n",
    "result_dict = results[0].to_dict()"
   ]
  },
  {
   "cell_type": "code",
   "execution_count": 12,
   "metadata": {},
   "outputs": [
    {
     "data": {
      "text/plain": [
       "{'NMI_cluster/label': 0.9873320325330928,\n",
       " 'ARI_cluster/label': 0.9937332222735867,\n",
       " 'ASW_label': 0.5613320097327232,\n",
       " 'ASW_label/batch': nan,\n",
       " 'PCR_batch': nan,\n",
       " 'cell_cycle_conservation': nan,\n",
       " 'isolated_label_F1': nan,\n",
       " 'isolated_label_silhouette': nan,\n",
       " 'graph_conn': nan,\n",
       " 'kBET': nan,\n",
       " 'iLISI': nan,\n",
       " 'cLISI': nan,\n",
       " 'hvg_overlap': nan,\n",
       " 'trajectory': nan}"
      ]
     },
     "execution_count": 12,
     "metadata": {},
     "output_type": "execute_result"
    }
   ],
   "source": [
    "result_dict\n",
    "# ACH005: NMI 0.953, ARI 0.957\n",
    "# 10X001: NMI 0.973, ARI 0.984\n",
    "# ACH002: NMI 0.981, ARI 0.9913\n",
    "# 10X009: NMI 0.986, ARI 0.994\n",
    "# ACH006: NMI 0.972, ARI 0.980\n",
    "# ACH007: NMI 0.919, ARI 0.901\n",
    "# 10X0017: NMI 0.935, ARI 0.831\n",
    "# 10X0025: NMI 0.990, ARI 0.995\n",
    "# 10X0020: NMI 0.987, ARI 0.994"
   ]
  },
  {
   "cell_type": "code",
   "execution_count": null,
   "metadata": {},
   "outputs": [],
   "source": []
  }
 ],
 "metadata": {
  "kernelspec": {
   "display_name": "Python 3",
   "language": "python",
   "name": "python3"
  },
  "language_info": {
   "codemirror_mode": {
    "name": "ipython",
    "version": 3
   },
   "file_extension": ".py",
   "mimetype": "text/x-python",
   "name": "python",
   "nbconvert_exporter": "python",
   "pygments_lexer": "ipython3",
   "version": "3.11.5"
  }
 },
 "nbformat": 4,
 "nbformat_minor": 2
}
